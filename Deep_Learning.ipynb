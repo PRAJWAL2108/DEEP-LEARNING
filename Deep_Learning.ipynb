{
  "nbformat": 4,
  "nbformat_minor": 0,
  "metadata": {
    "colab": {
      "name": "Deep_Learning.ipynb",
      "provenance": [],
      "collapsed_sections": [],
      "authorship_tag": "ABX9TyMmB3yOXWqyu1jlcv1qpVNg",
      "include_colab_link": true
    },
    "kernelspec": {
      "name": "python3",
      "display_name": "Python 3"
    }
  },
  "cells": [
    {
      "cell_type": "markdown",
      "metadata": {
        "id": "view-in-github",
        "colab_type": "text"
      },
      "source": [
        "<a href=\"https://colab.research.google.com/github/PRAJWAL2108/DEEP-LEARNING/blob/main/Deep_Learning.ipynb\" target=\"_parent\"><img src=\"https://colab.research.google.com/assets/colab-badge.svg\" alt=\"Open In Colab\"/></a>"
      ]
    },
    {
      "cell_type": "markdown",
      "metadata": {
        "id": "TXLgHm9MXddn"
      },
      "source": [
        "# 1. Implement the example on linear algebra using Tensorflow and Numpy"
      ]
    },
    {
      "cell_type": "code",
      "metadata": {
        "colab": {
          "base_uri": "https://localhost:8080/"
        },
        "id": "Q7xaB4Is7SJO",
        "outputId": "90e2f843-6a6b-4d12-9dfd-4f900232daa6"
      },
      "source": [
        "import numpy as np\n",
        "x=np.arange(16)    #1D Tensor\n",
        "x"
      ],
      "execution_count": null,
      "outputs": [
        {
          "output_type": "execute_result",
          "data": {
            "text/plain": [
              "array([ 0,  1,  2,  3,  4,  5,  6,  7,  8,  9, 10, 11, 12, 13, 14, 15])"
            ]
          },
          "metadata": {
            "tags": []
          },
          "execution_count": 1
        }
      ]
    },
    {
      "cell_type": "code",
      "metadata": {
        "colab": {
          "base_uri": "https://localhost:8080/"
        },
        "id": "b07mOgmJ8RiL",
        "outputId": "14586af4-54ab-43d7-9217-d6837af8bb9b"
      },
      "source": [
        "x.ndim"
      ],
      "execution_count": null,
      "outputs": [
        {
          "output_type": "execute_result",
          "data": {
            "text/plain": [
              "1"
            ]
          },
          "metadata": {
            "tags": []
          },
          "execution_count": 2
        }
      ]
    },
    {
      "cell_type": "code",
      "metadata": {
        "id": "A7nsDiDT8Znw",
        "colab": {
          "base_uri": "https://localhost:8080/"
        },
        "outputId": "08a6a1fe-8346-4233-d6cd-eed1208791f6"
      },
      "source": [
        "x=np.array(25)    #0D Tensor\n",
        "x.ndim"
      ],
      "execution_count": null,
      "outputs": [
        {
          "output_type": "execute_result",
          "data": {
            "text/plain": [
              "0"
            ]
          },
          "metadata": {
            "tags": []
          },
          "execution_count": 3
        }
      ]
    },
    {
      "cell_type": "code",
      "metadata": {
        "colab": {
          "base_uri": "https://localhost:8080/"
        },
        "id": "cdl_TZMECGMn",
        "outputId": "09e20aad-3268-4228-82e8-8e696546afdf"
      },
      "source": [
        "y=np.array([15,20,10,32,45])\n",
        "y"
      ],
      "execution_count": null,
      "outputs": [
        {
          "output_type": "execute_result",
          "data": {
            "text/plain": [
              "array([15, 20, 10, 32, 45])"
            ]
          },
          "metadata": {
            "tags": []
          },
          "execution_count": 4
        }
      ]
    },
    {
      "cell_type": "code",
      "metadata": {
        "colab": {
          "base_uri": "https://localhost:8080/"
        },
        "id": "I6E7-yulCI3N",
        "outputId": "429f5c56-ea76-42f7-c564-8b6cb9f71f21"
      },
      "source": [
        "y.ndim"
      ],
      "execution_count": null,
      "outputs": [
        {
          "output_type": "execute_result",
          "data": {
            "text/plain": [
              "1"
            ]
          },
          "metadata": {
            "tags": []
          },
          "execution_count": 5
        }
      ]
    },
    {
      "cell_type": "code",
      "metadata": {
        "id": "9jYlh3DICJKs",
        "colab": {
          "base_uri": "https://localhost:8080/"
        },
        "outputId": "4ece0044-8dd1-4a85-9501-9596db61509c"
      },
      "source": [
        "!pip install mxnet\n",
        "from mxnet import np, npx\n",
        "npx.set_np()"
      ],
      "execution_count": null,
      "outputs": [
        {
          "output_type": "stream",
          "text": [
            "Collecting mxnet\n",
            "\u001b[?25l  Downloading https://files.pythonhosted.org/packages/77/dc/d4dbefd504ca07aee1d613b522016429a2c544f65d66f7ba414391d7ba14/mxnet-1.8.0-py2.py3-none-manylinux2014_x86_64.whl (38.7MB)\n",
            "\u001b[K     |████████████████████████████████| 38.7MB 89kB/s \n",
            "\u001b[?25hRequirement already satisfied: requests<3,>=2.20.0 in /usr/local/lib/python3.7/dist-packages (from mxnet) (2.23.0)\n",
            "Requirement already satisfied: numpy<2.0.0,>1.16.0 in /usr/local/lib/python3.7/dist-packages (from mxnet) (1.19.5)\n",
            "Collecting graphviz<0.9.0,>=0.8.1\n",
            "  Downloading https://files.pythonhosted.org/packages/53/39/4ab213673844e0c004bed8a0781a0721a3f6bb23eb8854ee75c236428892/graphviz-0.8.4-py2.py3-none-any.whl\n",
            "Requirement already satisfied: urllib3!=1.25.0,!=1.25.1,<1.26,>=1.21.1 in /usr/local/lib/python3.7/dist-packages (from requests<3,>=2.20.0->mxnet) (1.24.3)\n",
            "Requirement already satisfied: certifi>=2017.4.17 in /usr/local/lib/python3.7/dist-packages (from requests<3,>=2.20.0->mxnet) (2020.12.5)\n",
            "Requirement already satisfied: idna<3,>=2.5 in /usr/local/lib/python3.7/dist-packages (from requests<3,>=2.20.0->mxnet) (2.10)\n",
            "Requirement already satisfied: chardet<4,>=3.0.2 in /usr/local/lib/python3.7/dist-packages (from requests<3,>=2.20.0->mxnet) (3.0.4)\n",
            "Installing collected packages: graphviz, mxnet\n",
            "  Found existing installation: graphviz 0.10.1\n",
            "    Uninstalling graphviz-0.10.1:\n",
            "      Successfully uninstalled graphviz-0.10.1\n",
            "Successfully installed graphviz-0.8.4 mxnet-1.8.0\n"
          ],
          "name": "stdout"
        }
      ]
    },
    {
      "cell_type": "code",
      "metadata": {
        "colab": {
          "base_uri": "https://localhost:8080/"
        },
        "id": "rws3AN9TDKDq",
        "outputId": "521b855a-e5a9-472a-ef49-b7ce03da0224"
      },
      "source": [
        "z=np.arange(25,100,50)\n",
        "z"
      ],
      "execution_count": null,
      "outputs": [
        {
          "output_type": "execute_result",
          "data": {
            "text/plain": [
              "array([25., 75.])"
            ]
          },
          "metadata": {
            "tags": []
          },
          "execution_count": 7
        }
      ]
    },
    {
      "cell_type": "code",
      "metadata": {
        "colab": {
          "base_uri": "https://localhost:8080/"
        },
        "id": "CZJ867H0EaMB",
        "outputId": "852eece3-ca44-4920-ad64-2ba5b2764118"
      },
      "source": [
        "z.shape #shape-gives format of tensor"
      ],
      "execution_count": null,
      "outputs": [
        {
          "output_type": "execute_result",
          "data": {
            "text/plain": [
              "(2,)"
            ]
          },
          "metadata": {
            "tags": []
          },
          "execution_count": 8
        }
      ]
    },
    {
      "cell_type": "code",
      "metadata": {
        "colab": {
          "base_uri": "https://localhost:8080/"
        },
        "id": "hZZDbgz8Eaii",
        "outputId": "a7946eaa-3140-4592-9ae9-b93cd04941e6"
      },
      "source": [
        "z.size #size-number of elements in the array"
      ],
      "execution_count": null,
      "outputs": [
        {
          "output_type": "execute_result",
          "data": {
            "text/plain": [
              "2"
            ]
          },
          "metadata": {
            "tags": []
          },
          "execution_count": 9
        }
      ]
    },
    {
      "cell_type": "code",
      "metadata": {
        "colab": {
          "base_uri": "https://localhost:8080/"
        },
        "id": "vs5QTAwfE-5G",
        "outputId": "2a158d75-e037-4186-c98e-fc4c8ce3afb8"
      },
      "source": [
        "a=np.arange(1,13)\n",
        "a"
      ],
      "execution_count": null,
      "outputs": [
        {
          "output_type": "execute_result",
          "data": {
            "text/plain": [
              "array([ 1.,  2.,  3.,  4.,  5.,  6.,  7.,  8.,  9., 10., 11., 12.])"
            ]
          },
          "metadata": {
            "tags": []
          },
          "execution_count": 10
        }
      ]
    },
    {
      "cell_type": "code",
      "metadata": {
        "colab": {
          "base_uri": "https://localhost:8080/"
        },
        "id": "xj9jJOauFS8n",
        "outputId": "eb269784-a075-4505-8dd5-47f2e402e8d7"
      },
      "source": [
        "a=a.reshape(3,4)\n",
        "a"
      ],
      "execution_count": null,
      "outputs": [
        {
          "output_type": "execute_result",
          "data": {
            "text/plain": [
              "array([[ 1.,  2.,  3.,  4.],\n",
              "       [ 5.,  6.,  7.,  8.],\n",
              "       [ 9., 10., 11., 12.]])"
            ]
          },
          "metadata": {
            "tags": []
          },
          "execution_count": 11
        }
      ]
    },
    {
      "cell_type": "code",
      "metadata": {
        "colab": {
          "base_uri": "https://localhost:8080/"
        },
        "id": "S4vVIKpvFsL6",
        "outputId": "b7111f32-9eab-4532-a92f-bc14f5d1142c"
      },
      "source": [
        "b=a.reshape(4,3)\n",
        "b"
      ],
      "execution_count": null,
      "outputs": [
        {
          "output_type": "execute_result",
          "data": {
            "text/plain": [
              "array([[ 1.,  2.,  3.],\n",
              "       [ 4.,  5.,  6.],\n",
              "       [ 7.,  8.,  9.],\n",
              "       [10., 11., 12.]])"
            ]
          },
          "metadata": {
            "tags": []
          },
          "execution_count": 12
        }
      ]
    },
    {
      "cell_type": "code",
      "metadata": {
        "colab": {
          "base_uri": "https://localhost:8080/"
        },
        "id": "0FcFHntgF1Ea",
        "outputId": "f8cb3e08-865c-423a-c3da-16a4de432349"
      },
      "source": [
        "c=np.arange(15)\n",
        "c=c.reshape(3,5)\n",
        "c"
      ],
      "execution_count": null,
      "outputs": [
        {
          "output_type": "execute_result",
          "data": {
            "text/plain": [
              "array([[ 0.,  1.,  2.,  3.,  4.],\n",
              "       [ 5.,  6.,  7.,  8.,  9.],\n",
              "       [10., 11., 12., 13., 14.]])"
            ]
          },
          "metadata": {
            "tags": []
          },
          "execution_count": 13
        }
      ]
    },
    {
      "cell_type": "code",
      "metadata": {
        "colab": {
          "base_uri": "https://localhost:8080/"
        },
        "id": "4UHF3Mt6Hyw5",
        "outputId": "267d1724-262e-497e-97e5-c632828ab90c"
      },
      "source": [
        "np.random.normal(0,1,size=(3,6))"
      ],
      "execution_count": null,
      "outputs": [
        {
          "output_type": "execute_result",
          "data": {
            "text/plain": [
              "array([[ 2.2122064 ,  1.1630787 ,  0.7740038 ,  0.4838046 ,  1.0434403 ,\n",
              "         0.29956347],\n",
              "       [ 1.1839255 ,  0.15302546,  1.8917114 , -1.1688148 , -1.2347414 ,\n",
              "         1.5580711 ],\n",
              "       [-1.771029  , -0.5459446 , -0.45138445, -2.3556297 ,  0.57938355,\n",
              "         0.5414402 ]])"
            ]
          },
          "metadata": {
            "tags": []
          },
          "execution_count": 14
        }
      ]
    },
    {
      "cell_type": "code",
      "metadata": {
        "colab": {
          "base_uri": "https://localhost:8080/"
        },
        "id": "Hd9bz66WI7X4",
        "outputId": "0267f70d-119e-48fb-a7e9-2b31f70132e5"
      },
      "source": [
        "#(mean, standard deviation, size of matrix)  np=numpy object which is object of numpy package\n",
        "np.random.normal(1,4,size=(4,4))   "
      ],
      "execution_count": null,
      "outputs": [
        {
          "output_type": "execute_result",
          "data": {
            "text/plain": [
              "array([[-6.424328  , 11.714026  , -6.9075184 ,  6.0185375 ],\n",
              "       [ 0.16792315, -1.1950958 ,  1.9776871 , -1.7242575 ],\n",
              "       [ 0.85135734,  0.45873666, -0.95099974,  2.508925  ],\n",
              "       [ 0.90953094,  2.640658  ,  3.2984567 ,  3.2850728 ]])"
            ]
          },
          "metadata": {
            "tags": []
          },
          "execution_count": 15
        }
      ]
    },
    {
      "cell_type": "code",
      "metadata": {
        "id": "fBnp80brJPBA",
        "colab": {
          "base_uri": "https://localhost:8080/"
        },
        "outputId": "dd8f21bf-4ec9-471d-b4d0-fc4d55c5eba1"
      },
      "source": [
        "x=np.array([[2, 11, 4, 3], [1, 5, 3, 4], [4, 10, 2, 6]])\n",
        "x"
      ],
      "execution_count": null,
      "outputs": [
        {
          "output_type": "execute_result",
          "data": {
            "text/plain": [
              "array([[ 2., 11.,  4.,  3.],\n",
              "       [ 1.,  5.,  3.,  4.],\n",
              "       [ 4., 10.,  2.,  6.]])"
            ]
          },
          "metadata": {
            "tags": []
          },
          "execution_count": 16
        }
      ]
    },
    {
      "cell_type": "code",
      "metadata": {
        "colab": {
          "base_uri": "https://localhost:8080/"
        },
        "id": "bUM4LkhwT3uP",
        "outputId": "5583a134-3774-42cc-fcdd-6946db975b1b"
      },
      "source": [
        "x=x.reshape(6,2)\n",
        "x"
      ],
      "execution_count": null,
      "outputs": [
        {
          "output_type": "execute_result",
          "data": {
            "text/plain": [
              "array([[ 2., 11.],\n",
              "       [ 4.,  3.],\n",
              "       [ 1.,  5.],\n",
              "       [ 3.,  4.],\n",
              "       [ 4., 10.],\n",
              "       [ 2.,  6.]])"
            ]
          },
          "metadata": {
            "tags": []
          },
          "execution_count": 17
        }
      ]
    },
    {
      "cell_type": "code",
      "metadata": {
        "colab": {
          "base_uri": "https://localhost:8080/"
        },
        "id": "ZqwvXzotT5nM",
        "outputId": "383d381e-41ec-453f-bea7-ebc91f5dd23e"
      },
      "source": [
        "import numpy as mp\n",
        "x=mp.array([1,2,3,4])\n",
        "y=mp.array([3,4,5,6])\n",
        "x,y"
      ],
      "execution_count": null,
      "outputs": [
        {
          "output_type": "execute_result",
          "data": {
            "text/plain": [
              "(array([1, 2, 3, 4]), array([3, 4, 5, 6]))"
            ]
          },
          "metadata": {
            "tags": []
          },
          "execution_count": 18
        }
      ]
    },
    {
      "cell_type": "code",
      "metadata": {
        "colab": {
          "base_uri": "https://localhost:8080/"
        },
        "id": "7qVzGyzJT7j8",
        "outputId": "6ce7c718-538d-4226-a965-72f813ae0d20"
      },
      "source": [
        "x\n",
        "y"
      ],
      "execution_count": null,
      "outputs": [
        {
          "output_type": "execute_result",
          "data": {
            "text/plain": [
              "array([3, 4, 5, 6])"
            ]
          },
          "metadata": {
            "tags": []
          },
          "execution_count": 19
        }
      ]
    },
    {
      "cell_type": "code",
      "metadata": {
        "colab": {
          "base_uri": "https://localhost:8080/"
        },
        "id": "i5RWjq-xT86a",
        "outputId": "e5b374a6-f1de-4cc9-a873-71a15ee0d23e"
      },
      "source": [
        "x,y"
      ],
      "execution_count": null,
      "outputs": [
        {
          "output_type": "execute_result",
          "data": {
            "text/plain": [
              "(array([1, 2, 3, 4]), array([3, 4, 5, 6]))"
            ]
          },
          "metadata": {
            "tags": []
          },
          "execution_count": 20
        }
      ]
    },
    {
      "cell_type": "code",
      "metadata": {
        "colab": {
          "base_uri": "https://localhost:8080/"
        },
        "id": "v2el-LqmT-Qo",
        "outputId": "e85ed8fe-1d3a-4079-e3ea-b26650aebb1d"
      },
      "source": [
        "x+y"
      ],
      "execution_count": null,
      "outputs": [
        {
          "output_type": "execute_result",
          "data": {
            "text/plain": [
              "array([ 4,  6,  8, 10])"
            ]
          },
          "metadata": {
            "tags": []
          },
          "execution_count": 21
        }
      ]
    },
    {
      "cell_type": "code",
      "metadata": {
        "colab": {
          "base_uri": "https://localhost:8080/"
        },
        "id": "E8MDBWxqUBTd",
        "outputId": "f8d0aebb-2b47-4df7-bce2-aa5f83a07924"
      },
      "source": [
        "x-y"
      ],
      "execution_count": null,
      "outputs": [
        {
          "output_type": "execute_result",
          "data": {
            "text/plain": [
              "array([-2, -2, -2, -2])"
            ]
          },
          "metadata": {
            "tags": []
          },
          "execution_count": 22
        }
      ]
    },
    {
      "cell_type": "code",
      "metadata": {
        "colab": {
          "base_uri": "https://localhost:8080/"
        },
        "id": "ep92_c7CUCs9",
        "outputId": "aca3376e-2741-46f2-ce9e-12462a89605c"
      },
      "source": [
        "x*y"
      ],
      "execution_count": null,
      "outputs": [
        {
          "output_type": "execute_result",
          "data": {
            "text/plain": [
              "array([ 3,  8, 15, 24])"
            ]
          },
          "metadata": {
            "tags": []
          },
          "execution_count": 23
        }
      ]
    },
    {
      "cell_type": "code",
      "metadata": {
        "colab": {
          "base_uri": "https://localhost:8080/"
        },
        "id": "xhfLP4YKUEy0",
        "outputId": "adfdcc4d-c764-458c-c66a-e2a599cd7b2b"
      },
      "source": [
        "x/y"
      ],
      "execution_count": null,
      "outputs": [
        {
          "output_type": "execute_result",
          "data": {
            "text/plain": [
              "array([0.33333333, 0.5       , 0.6       , 0.66666667])"
            ]
          },
          "metadata": {
            "tags": []
          },
          "execution_count": 24
        }
      ]
    },
    {
      "cell_type": "code",
      "metadata": {
        "colab": {
          "base_uri": "https://localhost:8080/"
        },
        "id": "jQjiAtg1UFo8",
        "outputId": "05078139-e141-40ff-8066-3f6b622cdc18"
      },
      "source": [
        "x**y"
      ],
      "execution_count": null,
      "outputs": [
        {
          "output_type": "execute_result",
          "data": {
            "text/plain": [
              "array([   1,   16,  243, 4096])"
            ]
          },
          "metadata": {
            "tags": []
          },
          "execution_count": 25
        }
      ]
    },
    {
      "cell_type": "code",
      "metadata": {
        "colab": {
          "base_uri": "https://localhost:8080/"
        },
        "id": "tugloZANUKZy",
        "outputId": "e36da50a-ecef-41a4-86e9-8399620bfc6a"
      },
      "source": [
        "x = mp.arange(12).reshape(3,4)\n",
        "x"
      ],
      "execution_count": null,
      "outputs": [
        {
          "output_type": "execute_result",
          "data": {
            "text/plain": [
              "array([[ 0,  1,  2,  3],\n",
              "       [ 4,  5,  6,  7],\n",
              "       [ 8,  9, 10, 11]])"
            ]
          },
          "metadata": {
            "tags": []
          },
          "execution_count": 26
        }
      ]
    },
    {
      "cell_type": "code",
      "metadata": {
        "colab": {
          "base_uri": "https://localhost:8080/"
        },
        "id": "nNFzsTXtUORW",
        "outputId": "7e74009c-79e1-4c24-d39e-875f199b511f"
      },
      "source": [
        "y=np.array([[2, 11, 4, 3], [1, 5, 3, 4], [4, 10, 2, 6]])\n",
        "y"
      ],
      "execution_count": null,
      "outputs": [
        {
          "output_type": "execute_result",
          "data": {
            "text/plain": [
              "array([[ 2., 11.,  4.,  3.],\n",
              "       [ 1.,  5.,  3.,  4.],\n",
              "       [ 4., 10.,  2.,  6.]])"
            ]
          },
          "metadata": {
            "tags": []
          },
          "execution_count": 27
        }
      ]
    },
    {
      "cell_type": "code",
      "metadata": {
        "id": "aMnecqvTUQIn"
      },
      "source": [
        "#z=np.concatenate([x,y],axis=0)\n",
        "#z"
      ],
      "execution_count": null,
      "outputs": []
    },
    {
      "cell_type": "code",
      "metadata": {
        "id": "efNGFsYYUR4G",
        "colab": {
          "base_uri": "https://localhost:8080/"
        },
        "outputId": "67eb07e2-5ac4-4bc5-eddf-1b2ba0d8d816"
      },
      "source": [
        "import numpy as np\n",
        "a=np.array([1,2,3])\n",
        "b=np.array([2,2,2])\n",
        "a*b"
      ],
      "execution_count": null,
      "outputs": [
        {
          "output_type": "execute_result",
          "data": {
            "text/plain": [
              "array([2, 4, 6])"
            ]
          },
          "metadata": {
            "tags": []
          },
          "execution_count": 29
        }
      ]
    },
    {
      "cell_type": "code",
      "metadata": {
        "id": "11Za90MNUXHp",
        "colab": {
          "base_uri": "https://localhost:8080/"
        },
        "outputId": "e2fd2f42-6a92-4d44-c459-28059756d65f"
      },
      "source": [
        "x=10\n",
        "y=5\n",
        "x,y"
      ],
      "execution_count": null,
      "outputs": [
        {
          "output_type": "execute_result",
          "data": {
            "text/plain": [
              "(10, 5)"
            ]
          },
          "metadata": {
            "tags": []
          },
          "execution_count": 30
        }
      ]
    },
    {
      "cell_type": "code",
      "metadata": {
        "id": "miYgExwXUZqr",
        "colab": {
          "base_uri": "https://localhost:8080/"
        },
        "outputId": "9f7a8073-af65-4743-d0a4-e8228616ef8e"
      },
      "source": [
        "before = id(y)\n",
        "y = y + x\n",
        "after=id(y)\n",
        "before,after"
      ],
      "execution_count": null,
      "outputs": [
        {
          "output_type": "execute_result",
          "data": {
            "text/plain": [
              "(94100942584448, 94100942584768)"
            ]
          },
          "metadata": {
            "tags": []
          },
          "execution_count": 31
        }
      ]
    },
    {
      "cell_type": "code",
      "metadata": {
        "id": "AZf5w4RQUcqG",
        "colab": {
          "base_uri": "https://localhost:8080/"
        },
        "outputId": "5aee17dd-d7fa-4338-9d22-6db7d196868d"
      },
      "source": [
        "z = np.zeros_like(y)\n",
        "print('ID of z is:',id(z))"
      ],
      "execution_count": null,
      "outputs": [
        {
          "output_type": "stream",
          "text": [
            "ID of z is: 139928914528096\n"
          ],
          "name": "stdout"
        }
      ]
    },
    {
      "cell_type": "code",
      "metadata": {
        "id": "jYMsTsubUfNI",
        "colab": {
          "base_uri": "https://localhost:8080/"
        },
        "outputId": "c57c6d77-8f2d-4d61-a336-55e3857e06a5"
      },
      "source": [
        "import numpy as np\n",
        "a=np.array([1,2,3])\n",
        "a.shape"
      ],
      "execution_count": null,
      "outputs": [
        {
          "output_type": "execute_result",
          "data": {
            "text/plain": [
              "(3,)"
            ]
          },
          "metadata": {
            "tags": []
          },
          "execution_count": 33
        }
      ]
    },
    {
      "cell_type": "code",
      "metadata": {
        "id": "bwTZ4wCRUg-r",
        "colab": {
          "base_uri": "https://localhost:8080/"
        },
        "outputId": "ac5e12cf-dae4-4dac-aecf-cf0826fe5245"
      },
      "source": [
        "b=np.array([2,2,2])\n",
        "b.shape"
      ],
      "execution_count": null,
      "outputs": [
        {
          "output_type": "execute_result",
          "data": {
            "text/plain": [
              "(3,)"
            ]
          },
          "metadata": {
            "tags": []
          },
          "execution_count": 34
        }
      ]
    },
    {
      "cell_type": "code",
      "metadata": {
        "id": "8Oy0NewFUiXt",
        "colab": {
          "base_uri": "https://localhost:8080/"
        },
        "outputId": "57944c3c-48db-4191-855f-207e8c23fc92"
      },
      "source": [
        "a*b"
      ],
      "execution_count": null,
      "outputs": [
        {
          "output_type": "execute_result",
          "data": {
            "text/plain": [
              "array([2, 4, 6])"
            ]
          },
          "metadata": {
            "tags": []
          },
          "execution_count": 35
        }
      ]
    },
    {
      "cell_type": "code",
      "metadata": {
        "id": "9pZB4S67UlFO",
        "colab": {
          "base_uri": "https://localhost:8080/"
        },
        "outputId": "bc73bad5-5f9f-41bd-a8fc-91340bb20d5f"
      },
      "source": [
        "a=np.array([1,2,3])\n",
        "b=2\n",
        "a*b"
      ],
      "execution_count": null,
      "outputs": [
        {
          "output_type": "execute_result",
          "data": {
            "text/plain": [
              "array([2, 4, 6])"
            ]
          },
          "metadata": {
            "tags": []
          },
          "execution_count": 36
        }
      ]
    },
    {
      "cell_type": "code",
      "metadata": {
        "id": "HOV7mrRAUmon",
        "colab": {
          "base_uri": "https://localhost:8080/"
        },
        "outputId": "834f5321-a4c8-48d8-b6ca-c9ed5e4b4b33"
      },
      "source": [
        "z=np.array([1,2,3,4,5])\n",
        "z[0], z[-1], z[-2]  "
      ],
      "execution_count": null,
      "outputs": [
        {
          "output_type": "execute_result",
          "data": {
            "text/plain": [
              "(1, 5, 4)"
            ]
          },
          "metadata": {
            "tags": []
          },
          "execution_count": 37
        }
      ]
    },
    {
      "cell_type": "code",
      "metadata": {
        "id": "45cOEMouUoHZ",
        "colab": {
          "base_uri": "https://localhost:8080/"
        },
        "outputId": "844b1f40-53e9-4c81-ba6b-bf12867b81d0"
      },
      "source": [
        "z[1:3]"
      ],
      "execution_count": null,
      "outputs": [
        {
          "output_type": "execute_result",
          "data": {
            "text/plain": [
              "array([2, 3])"
            ]
          },
          "metadata": {
            "tags": []
          },
          "execution_count": 38
        }
      ]
    },
    {
      "cell_type": "code",
      "metadata": {
        "id": "dfXMXI7iUupF",
        "colab": {
          "base_uri": "https://localhost:8080/"
        },
        "outputId": "6fd5b1be-cdb0-4c2b-93a5-6a5ca4db98d3"
      },
      "source": [
        "z[0:4]"
      ],
      "execution_count": null,
      "outputs": [
        {
          "output_type": "execute_result",
          "data": {
            "text/plain": [
              "array([1, 2, 3, 4])"
            ]
          },
          "metadata": {
            "tags": []
          },
          "execution_count": 39
        }
      ]
    },
    {
      "cell_type": "code",
      "metadata": {
        "id": "n98T29AYUw_c",
        "colab": {
          "base_uri": "https://localhost:8080/"
        },
        "outputId": "5f40c2b4-860c-4ed3-e3a5-9fa26503450c"
      },
      "source": [
        "import numpy as np\n",
        "x=np.array([1,2,3,4,5])\n",
        "y=np.array([3,3,3,3,3])\n",
        "beforeComp=id(y)\n",
        "beforeComp"
      ],
      "execution_count": null,
      "outputs": [
        {
          "output_type": "execute_result",
          "data": {
            "text/plain": [
              "139928872251264"
            ]
          },
          "metadata": {
            "tags": []
          },
          "execution_count": 40
        }
      ]
    },
    {
      "cell_type": "code",
      "metadata": {
        "id": "w8fJclNZUy-c",
        "colab": {
          "base_uri": "https://localhost:8080/"
        },
        "outputId": "7574dbdb-a60d-4162-bc8c-e8e6129bf407"
      },
      "source": [
        "y[:]=x+y\n",
        "afterComp=id(y)\n",
        "afterComp"
      ],
      "execution_count": null,
      "outputs": [
        {
          "output_type": "execute_result",
          "data": {
            "text/plain": [
              "139928872251264"
            ]
          },
          "metadata": {
            "tags": []
          },
          "execution_count": 41
        }
      ]
    }
  ]
}