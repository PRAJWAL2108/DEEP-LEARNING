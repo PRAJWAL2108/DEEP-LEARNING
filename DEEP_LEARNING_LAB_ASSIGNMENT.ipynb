{
  "nbformat": 4,
  "nbformat_minor": 0,
  "metadata": {
    "colab": {
      "name": "DEEP LEARNING LAB ASSIGNMENT.ipynb",
      "provenance": [],
      "authorship_tag": "ABX9TyOGhQ+XrOysuF4cutvIFv1e",
      "include_colab_link": true
    },
    "kernelspec": {
      "name": "python3",
      "display_name": "Python 3"
    }
  },
  "cells": [
    {
      "cell_type": "markdown",
      "metadata": {
        "id": "view-in-github",
        "colab_type": "text"
      },
      "source": [
        "<a href=\"https://colab.research.google.com/github/PRAJWAL2108/DEEP-LEARNING/blob/main/DEEP_LEARNING_LAB_ASSIGNMENT.ipynb\" target=\"_parent\"><img src=\"https://colab.research.google.com/assets/colab-badge.svg\" alt=\"Open In Colab\"/></a>"
      ]
    },
    {
      "cell_type": "markdown",
      "metadata": {
        "id": "95xykUUGcGyy"
      },
      "source": [
        "# 2. Create a file named StudentDetails.csv with Name and USN as columns. Write a Python program to read this file and output the contents. Replace the missing data (if any) and print the data read."
      ]
    },
    {
      "cell_type": "code",
      "metadata": {
        "id": "qkxjZM0McIwb"
      },
      "source": [
        "#Importing the necessary libraries\n",
        "import pandas as pd\n",
        "import numpy as np"
      ],
      "execution_count": 1,
      "outputs": []
    },
    {
      "cell_type": "code",
      "metadata": {
        "id": "TcW1agNRI9GI"
      },
      "source": [
        "# Reading the csv file using pandas pd.read_csv method available in pandas\n",
        "data_set = pd.read_csv(\"Student_Details.csv\") "
      ],
      "execution_count": 2,
      "outputs": []
    },
    {
      "cell_type": "code",
      "metadata": {
        "colab": {
          "base_uri": "https://localhost:8080/",
          "height": 0
        },
        "id": "a-qnQEZgJMAa",
        "outputId": "5524d8f5-d521-4379-fc3a-37b2e5db1904"
      },
      "source": [
        "#priting the dataset\n",
        "print(data_set)"
      ],
      "execution_count": 3,
      "outputs": [
        {
          "output_type": "stream",
          "text": [
            "       USN               NAME\n",
            "0    CS101    Abhishek Patil \n",
            "1    CS102       Shreya Gohad\n",
            "2    CS103  Abdul Rawoof Khan\n",
            "3    CS104        Riya Savant\n",
            "4    CS105       Ritika Rani \n",
            "..     ...                ...\n",
            "295  CS396      Nikhila Arava\n",
            "296  CS397      Harshitha C S\n",
            "297  CS398         SANTHOSH M\n",
            "298  CS399                NaN\n",
            "299  CS400        Manoj Kumar\n",
            "\n",
            "[300 rows x 2 columns]\n"
          ],
          "name": "stdout"
        }
      ]
    },
    {
      "cell_type": "code",
      "metadata": {
        "colab": {
          "base_uri": "https://localhost:8080/",
          "height": 0
        },
        "id": "J7-flRMbJTe1",
        "outputId": "f127262d-4fa8-427d-c708-c006ab3f0a0a"
      },
      "source": [
        "# Checking the data set for null values\n",
        "null_values = data_set.isnull().sum()\n",
        "print(null_values)"
      ],
      "execution_count": 4,
      "outputs": [
        {
          "output_type": "stream",
          "text": [
            "USN     51\n",
            "NAME    25\n",
            "dtype: int64\n"
          ],
          "name": "stdout"
        }
      ]
    },
    {
      "cell_type": "code",
      "metadata": {
        "id": "NbmZpaKIL-eI"
      },
      "source": [
        "# dropping all the rows with null values\n",
        "# axis = 0 means 'rows'\n",
        "# axis = 1 means 'columns'\n",
        "new_data = data_set.dropna(axis = 0, how ='any')"
      ],
      "execution_count": 5,
      "outputs": []
    },
    {
      "cell_type": "code",
      "metadata": {
        "colab": {
          "base_uri": "https://localhost:8080/",
          "height": 0
        },
        "id": "nYxDHVyiMCGN",
        "outputId": "1154195e-ba05-4c71-de10-f8ec379973a6"
      },
      "source": [
        "# checking the new data set for presence of null values\n",
        "null_values = new_data.isnull().sum()\n",
        "print(null_values)"
      ],
      "execution_count": 6,
      "outputs": [
        {
          "output_type": "stream",
          "text": [
            "USN     0\n",
            "NAME    0\n",
            "dtype: int64\n"
          ],
          "name": "stdout"
        }
      ]
    },
    {
      "cell_type": "code",
      "metadata": {
        "colab": {
          "base_uri": "https://localhost:8080/",
          "height": 419
        },
        "id": "6YqnxPw3MGOv",
        "outputId": "b93ba9c1-0e2b-44e4-d434-80bd4d3fd54c"
      },
      "source": [
        "#printing that new data set\n",
        "new_data"
      ],
      "execution_count": 7,
      "outputs": [
        {
          "output_type": "execute_result",
          "data": {
            "text/html": [
              "<div>\n",
              "<style scoped>\n",
              "    .dataframe tbody tr th:only-of-type {\n",
              "        vertical-align: middle;\n",
              "    }\n",
              "\n",
              "    .dataframe tbody tr th {\n",
              "        vertical-align: top;\n",
              "    }\n",
              "\n",
              "    .dataframe thead th {\n",
              "        text-align: right;\n",
              "    }\n",
              "</style>\n",
              "<table border=\"1\" class=\"dataframe\">\n",
              "  <thead>\n",
              "    <tr style=\"text-align: right;\">\n",
              "      <th></th>\n",
              "      <th>USN</th>\n",
              "      <th>NAME</th>\n",
              "    </tr>\n",
              "  </thead>\n",
              "  <tbody>\n",
              "    <tr>\n",
              "      <th>0</th>\n",
              "      <td>CS101</td>\n",
              "      <td>Abhishek Patil</td>\n",
              "    </tr>\n",
              "    <tr>\n",
              "      <th>1</th>\n",
              "      <td>CS102</td>\n",
              "      <td>Shreya Gohad</td>\n",
              "    </tr>\n",
              "    <tr>\n",
              "      <th>2</th>\n",
              "      <td>CS103</td>\n",
              "      <td>Abdul Rawoof Khan</td>\n",
              "    </tr>\n",
              "    <tr>\n",
              "      <th>3</th>\n",
              "      <td>CS104</td>\n",
              "      <td>Riya Savant</td>\n",
              "    </tr>\n",
              "    <tr>\n",
              "      <th>4</th>\n",
              "      <td>CS105</td>\n",
              "      <td>Ritika Rani</td>\n",
              "    </tr>\n",
              "    <tr>\n",
              "      <th>...</th>\n",
              "      <td>...</td>\n",
              "      <td>...</td>\n",
              "    </tr>\n",
              "    <tr>\n",
              "      <th>294</th>\n",
              "      <td>CS395</td>\n",
              "      <td>ROOPA SHREE S P</td>\n",
              "    </tr>\n",
              "    <tr>\n",
              "      <th>295</th>\n",
              "      <td>CS396</td>\n",
              "      <td>Nikhila Arava</td>\n",
              "    </tr>\n",
              "    <tr>\n",
              "      <th>296</th>\n",
              "      <td>CS397</td>\n",
              "      <td>Harshitha C S</td>\n",
              "    </tr>\n",
              "    <tr>\n",
              "      <th>297</th>\n",
              "      <td>CS398</td>\n",
              "      <td>SANTHOSH M</td>\n",
              "    </tr>\n",
              "    <tr>\n",
              "      <th>299</th>\n",
              "      <td>CS400</td>\n",
              "      <td>Manoj Kumar</td>\n",
              "    </tr>\n",
              "  </tbody>\n",
              "</table>\n",
              "<p>230 rows × 2 columns</p>\n",
              "</div>"
            ],
            "text/plain": [
              "       USN               NAME\n",
              "0    CS101    Abhishek Patil \n",
              "1    CS102       Shreya Gohad\n",
              "2    CS103  Abdul Rawoof Khan\n",
              "3    CS104        Riya Savant\n",
              "4    CS105       Ritika Rani \n",
              "..     ...                ...\n",
              "294  CS395    ROOPA SHREE S P\n",
              "295  CS396      Nikhila Arava\n",
              "296  CS397      Harshitha C S\n",
              "297  CS398         SANTHOSH M\n",
              "299  CS400        Manoj Kumar\n",
              "\n",
              "[230 rows x 2 columns]"
            ]
          },
          "metadata": {
            "tags": []
          },
          "execution_count": 7
        }
      ]
    },
    {
      "cell_type": "code",
      "metadata": {
        "colab": {
          "base_uri": "https://localhost:8080/",
          "height": 0
        },
        "id": "JSCSYlgXMb8v",
        "outputId": "d8afaa59-4fe1-47f5-d5b4-77011fb383f7"
      },
      "source": [
        "#comparing the old data set i.e, data_set and the newly obtained data set i.e., new_data\n",
        "print(\"Old data frame length:\", len(data_set))\n",
        "print(\"New data frame length:\", len(new_data)) \n",
        "print(\"Number of rows with at least 1 NA value: \", (len(data_set)-len(new_data)))"
      ],
      "execution_count": 8,
      "outputs": [
        {
          "output_type": "stream",
          "text": [
            "Old data frame length: 300\n",
            "New data frame length: 230\n",
            "Number of rows with at least 1 NA value:  70\n"
          ],
          "name": "stdout"
        }
      ]
    },
    {
      "cell_type": "markdown",
      "metadata": {
        "id": "TXnicSwzcjBk"
      },
      "source": [
        "#     3. Practice the examples at \n",
        "https://www.w3schools.com/python/python_ml_getting_started.asp \n"
      ]
    },
    {
      "cell_type": "markdown",
      "metadata": {
        "id": "QiE08KsTf9oD"
      },
      "source": [
        "#### MEAN, MEDIAN & MODE"
      ]
    },
    {
      "cell_type": "markdown",
      "metadata": {
        "id": "j4HTzjT4cLpG"
      },
      "source": [
        "Data Set\n",
        "In the mind of a computer, a data set is any collection of data. It can be anything from an array to a complete database.\n",
        "\n",
        "Example of an array:\n",
        "\n",
        "[99,86,87,88,111,86,103,87,94,78,77,85,86]\n"
      ]
    },
    {
      "cell_type": "markdown",
      "metadata": {
        "id": "Ary4US6bgHXg"
      },
      "source": [
        "In Machine Learning (and in mathematics) there are often three values that interests us:\n",
        "*   Mean - The average value\n",
        "*   Median - The mid point value\n",
        "*   Mode - The most common value\n",
        "\n",
        "\n",
        "\n"
      ]
    },
    {
      "cell_type": "code",
      "metadata": {
        "colab": {
          "base_uri": "https://localhost:8080/",
          "height": 0
        },
        "id": "utcKsdhqb3S3",
        "outputId": "35b59b84-540a-4446-ddc5-e302dab91e81"
      },
      "source": [
        "# MEAN\n",
        "import numpy\n",
        "speed = [99,86,87,88,111,86,103,87,94,78,77,85,86]\n",
        "x=numpy.mean(speed)\n",
        "# mean = (99+86+87+88+111+86+103+87+94+78+77+85+86) / 13 = 89.77\n",
        "print(x)"
      ],
      "execution_count": 9,
      "outputs": [
        {
          "output_type": "stream",
          "text": [
            "89.76923076923077\n"
          ],
          "name": "stdout"
        }
      ]
    },
    {
      "cell_type": "code",
      "metadata": {
        "colab": {
          "base_uri": "https://localhost:8080/",
          "height": 0
        },
        "id": "xXo3Wx9FdQRe",
        "outputId": "6a5610b4-1819-442d-d92e-0d037c4cacc9"
      },
      "source": [
        "# MEDIAN\n",
        "import numpy\n",
        "speed = [99,86,87,88,111,86,103,87,94,78,77,85,86]\n",
        "y = numpy.median(speed)\n",
        "# median 77, 78, 85, 86, 86, 86, 87, 87, 88, 94, 99, 103, 111\n",
        "# The median value is the value in the middle, after you have sorted all the values\n",
        "print(y)"
      ],
      "execution_count": 10,
      "outputs": [
        {
          "output_type": "stream",
          "text": [
            "87.0\n"
          ],
          "name": "stdout"
        }
      ]
    },
    {
      "cell_type": "code",
      "metadata": {
        "colab": {
          "base_uri": "https://localhost:8080/",
          "height": 0
        },
        "id": "VRHVXTHqeGuf",
        "outputId": "bdf92b82-f519-40cd-ab85-8212dabc6588"
      },
      "source": [
        "# MEDIAN\n",
        "import numpy\n",
        "speed = [99,86,87,88,86,103,87,94,78,77,85,86]\n",
        "a = numpy.median(speed)\n",
        "# If there are two numbers in the middle, divide the sum of those numbers by two.\n",
        "print(a)"
      ],
      "execution_count": 11,
      "outputs": [
        {
          "output_type": "stream",
          "text": [
            "86.5\n"
          ],
          "name": "stdout"
        }
      ]
    },
    {
      "cell_type": "code",
      "metadata": {
        "colab": {
          "base_uri": "https://localhost:8080/",
          "height": 0
        },
        "id": "xOsO6hGoeVaz",
        "outputId": "f7d136da-2d3a-478f-f90a-44c95fe43ec3"
      },
      "source": [
        "# MODE\n",
        "from scipy import stats\n",
        "speed = [99,86,87,88,111,86,103,87,94,78,77,85,86]\n",
        "# The Mode value is the value that appears the most number of times\n",
        "b = stats.mode(speed)\n",
        "print(b)"
      ],
      "execution_count": 12,
      "outputs": [
        {
          "output_type": "stream",
          "text": [
            "ModeResult(mode=array([86]), count=array([3]))\n"
          ],
          "name": "stdout"
        }
      ]
    },
    {
      "cell_type": "markdown",
      "metadata": {
        "id": "425WsV0EgohT"
      },
      "source": [
        "#### STANDARD DEVIATION"
      ]
    },
    {
      "cell_type": "markdown",
      "metadata": {
        "id": "5t7HWBQ_g0aw"
      },
      "source": [
        "Standard deviation is a number that describes how spread out the values are.\n",
        "\n",
        "A low standard deviation means that most of the numbers are close to the mean (average) value.\n",
        "\n",
        "A high standard deviation means that the values are spread out over a wider range.\n",
        "\n",
        "Standard Deviation is often represented by the symbol Sigma: σ"
      ]
    },
    {
      "cell_type": "code",
      "metadata": {
        "colab": {
          "base_uri": "https://localhost:8080/",
          "height": 0
        },
        "id": "o8GXubZqgsKl",
        "outputId": "6548efb9-7855-4391-ac81-73ee9413497a"
      },
      "source": [
        "import numpy\n",
        "speed = [86,87,88,86,87,85,86]\n",
        "SD = numpy.std(speed)\n",
        "print(SD)"
      ],
      "execution_count": 13,
      "outputs": [
        {
          "output_type": "stream",
          "text": [
            "0.9035079029052513\n"
          ],
          "name": "stdout"
        }
      ]
    },
    {
      "cell_type": "code",
      "metadata": {
        "colab": {
          "base_uri": "https://localhost:8080/",
          "height": 0
        },
        "id": "qYl6QqlNiUeL",
        "outputId": "fe5c389f-78fd-4824-f8f5-a50f9f5e48b8"
      },
      "source": [
        "import numpy\n",
        "speed = [32,111,138,28,59,77,97]\n",
        "t = numpy.std(speed)\n",
        "print(t)"
      ],
      "execution_count": 14,
      "outputs": [
        {
          "output_type": "stream",
          "text": [
            "37.84501153334721\n"
          ],
          "name": "stdout"
        }
      ]
    },
    {
      "cell_type": "markdown",
      "metadata": {
        "id": "gUBaflyoiZo2"
      },
      "source": [
        "#### VARIANCE"
      ]
    },
    {
      "cell_type": "markdown",
      "metadata": {
        "id": "6Y2oRoy6ijJd"
      },
      "source": [
        "Variance is another number that indicates how spread out the values are.\n",
        "\n",
        "In fact, if you take the square root of the variance, you get the standard deviation!\n",
        "\n",
        "Or the other way around, if you multiply the standard deviation by itself, you get the variance!\n",
        "\n",
        "Variance is often represented by the symbol Sigma Square: σ^2\n",
        "\n",
        "To calculate the variance you have to do as follows:\n",
        "*   1. Find the mean\n",
        "*   2. For each value, find the difference from the mean\n",
        "*   3. For each difference, find the square value\n",
        "*   4. The variance is the average number of these squared differences"
      ]
    },
    {
      "cell_type": "code",
      "metadata": {
        "colab": {
          "base_uri": "https://localhost:8080/",
          "height": 0
        },
        "id": "o3j7-HVWi4V_",
        "outputId": "c02b86ae-6461-4fc7-8b49-b294d6f660ae"
      },
      "source": [
        "import numpy\n",
        "speed = [32,111,138,28,59,77,97]\n",
        "v = numpy.var(speed)\n",
        "print(v)"
      ],
      "execution_count": 15,
      "outputs": [
        {
          "output_type": "stream",
          "text": [
            "1432.2448979591834\n"
          ],
          "name": "stdout"
        }
      ]
    },
    {
      "cell_type": "markdown",
      "metadata": {
        "id": "U4QZ5XI4jghf"
      },
      "source": [
        "#### PERCENTILE\n"
      ]
    },
    {
      "cell_type": "markdown",
      "metadata": {
        "id": "u6k0kp0ijj0f"
      },
      "source": [
        "Percentiles are used in statistics to give you a number that describes the value that a given percent of the values are lower than.\n",
        "\n",
        "Let us consider an example:\n",
        "\n",
        "ages = [5,31,43,48,50,41,7,11,15,39,80,82,32,2,8,6,25,36,27,61,31]\n",
        "\n",
        "What is the 75. percentile? The answer is 43, meaning that 75% of the people are 43 or younger."
      ]
    },
    {
      "cell_type": "code",
      "metadata": {
        "colab": {
          "base_uri": "https://localhost:8080/",
          "height": 0
        },
        "id": "syAsYxv9jjFj",
        "outputId": "3ac3b427-c325-45d8-8a65-31773b038b35"
      },
      "source": [
        "import numpy\n",
        "ages = [5,31,43,48,50,41,7,11,15,39,80,82,32,2,8,6,25,36,27,61,31]\n",
        "p= numpy.percentile(ages, 75)\n",
        "print(p)"
      ],
      "execution_count": 16,
      "outputs": [
        {
          "output_type": "stream",
          "text": [
            "43.0\n"
          ],
          "name": "stdout"
        }
      ]
    },
    {
      "cell_type": "markdown",
      "metadata": {
        "id": "5jkrqYh9keKM"
      },
      "source": [
        "What is the age that 90% of the people are younger than?"
      ]
    },
    {
      "cell_type": "code",
      "metadata": {
        "colab": {
          "base_uri": "https://localhost:8080/",
          "height": 0
        },
        "id": "5nUJmNFokesv",
        "outputId": "89007294-cbc7-472c-f58e-1881a3ad1ffa"
      },
      "source": [
        "import numpy\n",
        "ages = [5,31,43,48,50,41,7,11,15,39,80,82,32,2,8,6,25,36,27,61,31]\n",
        "x = numpy.percentile(ages, 90)\n",
        "print(x)"
      ],
      "execution_count": 17,
      "outputs": [
        {
          "output_type": "stream",
          "text": [
            "61.0\n"
          ],
          "name": "stdout"
        }
      ]
    },
    {
      "cell_type": "markdown",
      "metadata": {
        "id": "G45uMz89rYv1"
      },
      "source": [
        "#### DATA DISTRIBUTION"
      ]
    },
    {
      "cell_type": "markdown",
      "metadata": {
        "id": "f7iIvTp5xghI"
      },
      "source": [
        "To create big data sets for testing, we use the Python module NumPy, which comes with a number of methods to create random data sets, of any size.\n",
        "\n"
      ]
    },
    {
      "cell_type": "code",
      "metadata": {
        "colab": {
          "base_uri": "https://localhost:8080/",
          "height": 0
        },
        "id": "xqM9C7aLxhCY",
        "outputId": "fd603565-369d-459a-ddd9-636c321cad71"
      },
      "source": [
        "import numpy\n",
        "x = numpy.random.uniform(0.0, 5.0, 250)\n",
        "print(x)"
      ],
      "execution_count": 18,
      "outputs": [
        {
          "output_type": "stream",
          "text": [
            "[3.29786469 1.52216392 3.91548899 3.09733119 4.59089577 0.65346657\n",
            " 3.95450387 4.19453962 1.13207149 3.78162902 4.81559263 0.068798\n",
            " 2.66368576 2.515091   4.391192   2.25341803 4.05036416 0.50367512\n",
            " 4.92275506 0.40009284 4.79752696 1.64481814 1.43335488 4.42155957\n",
            " 4.53716447 2.20910193 2.58782998 2.0394454  2.60704097 0.01792586\n",
            " 4.00386177 0.05936152 3.35497955 3.71133936 1.6112966  2.60013292\n",
            " 0.62909641 2.80662112 4.45312712 2.79100475 0.37691212 0.53720269\n",
            " 3.74724944 2.03390206 1.59031213 4.40042514 1.9195131  1.59454969\n",
            " 2.46937141 1.34793929 4.68780131 3.70640231 4.94859215 1.32175096\n",
            " 4.05385708 4.98985244 3.41959381 0.10944067 1.3600932  1.19863897\n",
            " 0.56805776 1.10750032 1.12822604 1.87480907 1.27261083 2.03801048\n",
            " 1.65819211 0.78967947 2.4477245  2.88500187 0.97829679 4.48046673\n",
            " 3.38524349 1.5140968  0.29721162 4.53340158 0.76171014 2.4623309\n",
            " 1.00731795 4.41483071 3.14417232 3.48920306 2.73922633 0.0551303\n",
            " 3.84109697 2.32454569 3.09293561 4.70591003 4.14308733 2.05381429\n",
            " 3.0774112  0.21491087 2.06721562 3.32242154 2.46820306 3.95381961\n",
            " 3.01630107 4.58531708 1.16935991 3.66835318 3.80745233 2.78178705\n",
            " 1.31109996 2.51150215 3.45785947 3.78567049 1.46871887 2.57928023\n",
            " 4.17994904 1.6794069  1.35509326 2.46548352 1.70779487 4.33504514\n",
            " 4.18909687 2.17048537 0.29764296 0.22453809 2.63998257 3.36230309\n",
            " 4.95763506 3.74865249 4.14144581 0.47408895 3.14644954 4.31799904\n",
            " 2.7154085  0.89694916 4.27111417 1.62687417 0.46472852 2.8556333\n",
            " 1.63769692 1.24712444 3.75503073 4.38145242 0.55194347 4.02740563\n",
            " 1.52893659 1.76938078 1.76778681 2.51823915 4.49115477 0.39607862\n",
            " 0.34448352 4.46369799 2.71338719 3.87234675 4.82203495 1.56629267\n",
            " 2.81333405 1.16232122 1.18273157 4.85479815 2.11911303 0.86352525\n",
            " 4.28279637 0.92195777 3.99876009 1.68652243 4.23926247 1.57988622\n",
            " 1.07692532 3.08151162 0.45045508 0.37856215 4.21867416 4.85020921\n",
            " 3.8545343  0.48373123 2.62333639 2.34825303 3.95701531 2.46073356\n",
            " 3.36140833 2.52373402 0.13719795 4.14001846 2.03952215 3.80021042\n",
            " 3.69460639 1.93180974 3.24952461 4.89849401 4.7418485  2.31333317\n",
            " 1.46776406 4.56058601 4.23889287 2.84613457 3.70969778 1.13024577\n",
            " 1.15171931 0.62500835 1.57981912 3.67648936 3.0868873  4.59962316\n",
            " 4.58270765 3.35172016 3.33841862 4.8057913  4.71452677 0.82390604\n",
            " 0.84092366 2.40381029 3.22448338 3.4397711  0.21147979 0.77852232\n",
            " 3.59256405 0.26106028 0.86891707 0.00707398 4.4177728  2.54597497\n",
            " 3.73181117 2.62880331 2.00402533 2.59209813 1.27150875 2.47835288\n",
            " 1.88638184 4.82207683 1.42443147 2.28419146 3.21340578 1.29578711\n",
            " 1.0497293  3.63622092 3.30266726 0.99834359 3.41737791 3.25749479\n",
            " 3.40733028 2.98464077 4.02945382 0.34645696 0.83232534 3.7809877\n",
            " 0.4481171  0.34441592 0.35427112 3.07793449 3.10335177 4.54229135\n",
            " 1.21879916 0.6903762  2.99093323 3.73953821]\n"
          ],
          "name": "stdout"
        }
      ]
    },
    {
      "cell_type": "code",
      "metadata": {
        "colab": {
          "base_uri": "https://localhost:8080/",
          "height": 265
        },
        "id": "skDAmBKRxlxf",
        "outputId": "dc4c5fd2-3cc3-4a98-cafb-03eb3da5e24c"
      },
      "source": [
        "import numpy\n",
        "import matplotlib.pyplot as plt\n",
        "x = numpy.random.uniform(0.0, 5.0, 250)\n",
        "plt.hist(x, 5)\n",
        "plt.show()"
      ],
      "execution_count": 19,
      "outputs": [
        {
          "output_type": "display_data",
          "data": {
            "image/png": "[encoded data removed]",
            "text/plain": [
              "<Figure size 432x288 with 1 Axes>"
            ]
          },
          "metadata": {
            "tags": [],
            "needs_background": "light"
          }
        }
      ]
    },
    {
      "cell_type": "code",
      "metadata": {
        "colab": {
          "base_uri": "https://localhost:8080/",
          "height": 265
        },
        "id": "PJuje86gxqbc",
        "outputId": "f964b627-893c-4e5e-e00d-14e6e114efb8"
      },
      "source": [
        "import numpy\n",
        "import matplotlib.pyplot as plt\n",
        "x = numpy.random.uniform(0.0, 5.0, 100000)\n",
        "plt.hist(x, 100)\n",
        "plt.show()"
      ],
      "execution_count": 20,
      "outputs": [
        {
          "output_type": "display_data",
          "data": {
            "image/png": "[encoded data removed]",
            "text/plain": [
              "<Figure size 432x288 with 1 Axes>"
            ]
          },
          "metadata": {
            "tags": [],
            "needs_background": "light"
          }
        }
      ]
    },
    {
      "cell_type": "markdown",
      "metadata": {
        "id": "tsICx5eorc61"
      },
      "source": [
        "#### NORMAL DATA DISTRIBUTION"
      ]
    },
    {
      "cell_type": "markdown",
      "metadata": {
        "id": "fCNOH2KZx0Ix"
      },
      "source": [
        "In this chapter we will learn how to create an array where the values are concentrated around a given value.\n",
        "\n",
        "In probability theory this kind of data distribution is known as the normal data distribution, or the Gaussian data distribution, after the mathematician Carl Friedrich Gauss who came up with the formula of this data distribution.\n",
        "\n"
      ]
    },
    {
      "cell_type": "code",
      "metadata": {
        "colab": {
          "base_uri": "https://localhost:8080/",
          "height": 265
        },
        "id": "IIyx4LbUx0nS",
        "outputId": "c43b3b06-c11c-4806-d894-bf283aab56d3"
      },
      "source": [
        "import numpy\n",
        "import matplotlib.pyplot as plt\n",
        "x = numpy.random.normal(5.0, 1.0, 100000)\n",
        "plt.hist(x, 100)\n",
        "plt.show()"
      ],
      "execution_count": 21,
      "outputs": [
        {
          "output_type": "display_data",
          "data": {
            "image/png": "[encoded data removed]",
            "text/plain": [
              "<Figure size 432x288 with 1 Axes>"
            ]
          },
          "metadata": {
            "tags": [],
            "needs_background": "light"
          }
        }
      ]
    },
    {
      "cell_type": "markdown",
      "metadata": {
        "id": "88CarKXzx5Xp"
      },
      "source": [
        "We use the array from the numpy.random.normal() method, with 100000 values,  to draw a histogram with 100 bars.\n",
        "\n",
        "We specify that the mean value is 5.0, and the standard deviation is 1.0.\n",
        "\n",
        "Meaning that the values should be concentrated around 5.0, and rarely further away than 1.0 from the mean.\n",
        "\n",
        "And as you can see from the histogram, most values are between 4.0 and 6.0, with a top at approximately 5.0."
      ]
    },
    {
      "cell_type": "markdown",
      "metadata": {
        "id": "9IbdqD-_x8ES"
      },
      "source": [
        "#### SCATTER PLOT"
      ]
    },
    {
      "cell_type": "markdown",
      "metadata": {
        "id": "xsdz4u98yCu4"
      },
      "source": [
        "A scatter plot is a diagram where each value in the data set is represented by a dot.\n",
        "\n",
        "The Matplotlib module has a method for drawing scatter plots, it needs two arrays of the same length, one for the values of the x-axis, and one for the values of the y-axis.\n",
        "\n"
      ]
    },
    {
      "cell_type": "markdown",
      "metadata": {
        "id": "KGxjvFcvyHmb"
      },
      "source": [
        "The x array represents the age of each car.\n",
        "\n",
        "The y array represents the speed of each car.\n",
        "\n",
        "x = [5,7,8,7,2,17,2,9,4,11,12,9,6]\n",
        "\n",
        "y = [99,86,87,88,111,86,103,87,94,78,77,85,86]"
      ]
    },
    {
      "cell_type": "code",
      "metadata": {
        "colab": {
          "base_uri": "https://localhost:8080/",
          "height": 265
        },
        "id": "to9YeA0Cx-in",
        "outputId": "f5779ee3-5f17-499d-8cc2-ac200e4871d1"
      },
      "source": [
        "import matplotlib.pyplot as plt\n",
        "\n",
        "x = [5,7,8,7,2,17,2,9,4,11,12,9,6]\n",
        "y = [99,86,87,88,111,86,103,87,94,78,77,85,86]\n",
        "\n",
        "plt.scatter(x, y)\n",
        "plt.show()"
      ],
      "execution_count": 22,
      "outputs": [
        {
          "output_type": "display_data",
          "data": {
            "image/png": "[encoded data removed]",
            "text/plain": [
              "<Figure size 432x288 with 1 Axes>"
            ]
          },
          "metadata": {
            "tags": [],
            "needs_background": "light"
          }
        }
      ]
    },
    {
      "cell_type": "markdown",
      "metadata": {
        "id": "SnfVJVb4ydR8"
      },
      "source": [
        "In Machine Learning the data sets can contain thousands-, or even millions, of values.\n",
        "\n",
        "You might not have real world data when you are testing an algorithm, you might have to use randomly generated values.\n",
        "\n",
        "As we have learned in the previous chapter, the NumPy module can help us with that!\n",
        "\n",
        "Let us create two arrays that are both filled with 1000 random numbers from a normal data distribution.\n",
        "\n",
        "The first array will have the mean set to 5.0 with a standard deviation of 1.0.\n",
        "\n",
        "The second array will have the mean set to 10.0 with a standard deviation of 2.0."
      ]
    },
    {
      "cell_type": "code",
      "metadata": {
        "id": "RE64Shoeyecb",
        "colab": {
          "base_uri": "https://localhost:8080/",
          "height": 265
        },
        "outputId": "d4fed9d8-da8e-43e6-f1c2-e79bcce892eb"
      },
      "source": [
        "import numpy\n",
        "import matplotlib.pyplot as plt\n",
        "\n",
        "x = numpy.random.normal(5.0, 1.0, 1000)\n",
        "y = numpy.random.normal(10.0, 2.0, 1000)\n",
        "\n",
        "plt.scatter(x, y)\n",
        "plt.show()"
      ],
      "execution_count": 23,
      "outputs": [
        {
          "output_type": "display_data",
          "data": {
            "image/png": "[encoded data removed]",
            "text/plain": [
              "<Figure size 432x288 with 1 Axes>"
            ]
          },
          "metadata": {
            "tags": [],
            "needs_background": "light"
          }
        }
      ]
    },
    {
      "cell_type": "markdown",
      "metadata": {
        "id": "slivXeAQKELM"
      },
      "source": [
        "#### LINEAR REGRESSION\n",
        "* Linear regression uses the relationship between the data-points to draw a straight line through all them.\n",
        "* This line can be used to predict future values.\n",
        "\n"
      ]
    },
    {
      "cell_type": "code",
      "metadata": {
        "colab": {
          "base_uri": "https://localhost:8080/",
          "height": 265
        },
        "id": "zU_4mdV9ZgfO",
        "outputId": "04af4a22-439a-4bc9-da33-e17847af114c"
      },
      "source": [
        "import matplotlib.pyplot as plt\n",
        "from scipy import stats\n",
        "x = [5,7,8,7,2,17,2,9,4,11,12,9,6]\n",
        "y = [99,86,87,88,111,86,103,87,94,78,77,85,86]\n",
        "\n",
        "plt.scatter(x, y)\n",
        "plt.show()"
      ],
      "execution_count": 24,
      "outputs": [
        {
          "output_type": "display_data",
          "data": {
            "image/png": "[encoded data removed]",
            "text/plain": [
              "<Figure size 432x288 with 1 Axes>"
            ]
          },
          "metadata": {
            "tags": [],
            "needs_background": "light"
          }
        }
      ]
    },
    {
      "cell_type": "code",
      "metadata": {
        "colab": {
          "base_uri": "https://localhost:8080/",
          "height": 265
        },
        "id": "GeFV--YDZhno",
        "outputId": "6f1bd75f-37dd-4116-98d9-4d2ec10afc62"
      },
      "source": [
        "# Importing the necessary modules\n",
        "import matplotlib.pyplot as plt\n",
        "from scipy import stats\n",
        "# Creating the arrays that represent the values of the x and y axis:\n",
        "x = [5,7,8,7,2,17,2,9,4,11,12,9,6]\n",
        "y = [99,86,87,88,111,86,103,87,94,78,77,85,86]\n",
        "# Execute a method that returns some important key values of Linear Regression:\n",
        "slope, intercept, r, p, std_err = stats.linregress(x, y)\n",
        "# A function that uses the slope and intercept values to return a new value. \n",
        "# This new value represents where on the y-axis the corresponding x value will be placed:\n",
        "def myfunc(x):\n",
        "  return slope * x + intercept\n",
        "# Run each value of the x array through the function. This will result in a new array with new values for the y-axis:\n",
        "mymodel = list(map(myfunc, x))\n",
        "\n",
        "plt.scatter(x, y) # Plotting the original scatter plot:\n",
        "plt.plot(x, mymodel) # Draw the line of linear regression:\n",
        "plt.show() # Displaying the graph\n"
      ],
      "execution_count": 25,
      "outputs": [
        {
          "output_type": "display_data",
          "data": {
            "image/png": "[encoded data removed]",
            "text/plain": [
              "<Figure size 432x288 with 1 Axes>"
            ]
          },
          "metadata": {
            "tags": [],
            "needs_background": "light"
          }
        }
      ]
    },
    {
      "cell_type": "markdown",
      "metadata": {
        "id": "dUVrvkp5antb"
      },
      "source": [
        "* It is important to know how the relationship between the values of the x-axis and the values of the y-axis is, if there are no relationship the linear regression can not be used to predict anything.\n",
        "* This relationship - the coefficient of correlation - is called r.\n",
        "* The r value ranges from -1 to 1, where 0 means no relationship, and 1 (and -1) means 100% related."
      ]
    },
    {
      "cell_type": "code",
      "metadata": {
        "colab": {
          "base_uri": "https://localhost:8080/",
          "height": 0
        },
        "id": "eYf2wLWxZt7F",
        "outputId": "b1d5e63e-a1d4-4198-c5f0-dc41f13b1619"
      },
      "source": [
        "from scipy import stats\n",
        "\n",
        "x = [5,7,8,7,2,17,2,9,4,11,12,9,6]\n",
        "y = [99,86,87,88,111,86,103,87,94,78,77,85,86]\n",
        "\n",
        "slope, intercept, r, p, std_err = stats.linregress(x, y)\n",
        "\n",
        "print(r)"
      ],
      "execution_count": 26,
      "outputs": [
        {
          "output_type": "stream",
          "text": [
            "-0.758591524376155\n"
          ],
          "name": "stdout"
        }
      ]
    },
    {
      "cell_type": "code",
      "metadata": {
        "colab": {
          "base_uri": "https://localhost:8080/",
          "height": 0
        },
        "id": "_BszFn8DZwNO",
        "outputId": "31818227-613b-4d20-84b7-01a327136041"
      },
      "source": [
        "# Here, we are predicting the speed of a 10 year old car\n",
        "from scipy import stats\n",
        "\n",
        "x = [5,7,8,7,2,17,2,9,4,11,12,9,6]\n",
        "y = [99,86,87,88,111,86,103,87,94,78,77,85,86]\n",
        "\n",
        "slope, intercept, r, p, std_err = stats.linregress(x, y)\n",
        "\n",
        "def myfunc(x):\n",
        "  return slope * x + intercept\n",
        "\n",
        "speed = myfunc(10)\n",
        "\n",
        "print(speed)"
      ],
      "execution_count": 27,
      "outputs": [
        {
          "output_type": "stream",
          "text": [
            "85.59308314937454\n"
          ],
          "name": "stdout"
        }
      ]
    },
    {
      "cell_type": "code",
      "metadata": {
        "colab": {
          "base_uri": "https://localhost:8080/",
          "height": 282
        },
        "id": "TujkXHSOZyeB",
        "outputId": "39cab76c-4a00-4bd8-a4c6-c1433a0ed92f"
      },
      "source": [
        "# These values for the x and y axis should result in a very bad fit for linear regression:\n",
        "\n",
        "import matplotlib.pyplot as plt\n",
        "from scipy import stats\n",
        "\n",
        "x = [89,43,36,36,95,10,66,34,38,20,26,29,48,64,6,5,36,66,72,40]\n",
        "y = [21,46,3,35,67,95,53,72,58,10,26,34,90,33,38,20,56,2,47,15]\n",
        "\n",
        "slope, intercept, r, p, std_err = stats.linregress(x, y)\n",
        "\n",
        "def myfunc(x):\n",
        "  return slope * x + intercept\n",
        "\n",
        "mymodel = list(map(myfunc, x))\n",
        "\n",
        "plt.scatter(x, y)\n",
        "plt.plot(x, mymodel)\n",
        "plt.show()\n",
        "\n",
        "print(r)"
      ],
      "execution_count": 28,
      "outputs": [
        {
          "output_type": "display_data",
          "data": {
            "image/png": "[encoded data removed]",
            "text/plain": [
              "<Figure size 432x288 with 1 Axes>"
            ]
          },
          "metadata": {
            "tags": [],
            "needs_background": "light"
          }
        },
        {
          "output_type": "stream",
          "text": [
            "0.01331814154297491\n"
          ],
          "name": "stdout"
        }
      ]
    },
    {
      "cell_type": "markdown",
      "metadata": {
        "id": "tEnUQv6dbXyq"
      },
      "source": [
        "#### POLYNOMIAL REGRESSION"
      ]
    },
    {
      "cell_type": "code",
      "metadata": {
        "colab": {
          "base_uri": "https://localhost:8080/",
          "height": 265
        },
        "id": "lwX8bVWwb0Ht",
        "outputId": "5d1c2bae-a548-4ee9-b43f-d47255f8489c"
      },
      "source": [
        "# Here, we are first plotting the scatter plot\n",
        "import matplotlib.pyplot as plt\n",
        "x = [1,2,3,5,6,7,8,9,10,12,13,14,15,16,18,19,21,22]\n",
        "y = [100,90,80,60,60,55,60,65,70,70,75,76,78,79,90,99,99,100]\n",
        "\n",
        "plt.scatter(x, y)\n",
        "plt.show()\n"
      ],
      "execution_count": 29,
      "outputs": [
        {
          "output_type": "display_data",
          "data": {
            "image/png": "[encoded data removed]",
            "text/plain": [
              "<Figure size 432x288 with 1 Axes>"
            ]
          },
          "metadata": {
            "tags": [],
            "needs_background": "light"
          }
        }
      ]
    },
    {
      "cell_type": "code",
      "metadata": {
        "colab": {
          "base_uri": "https://localhost:8080/",
          "height": 299
        },
        "id": "pBJec_D-nnhW",
        "outputId": "c553f6b1-b182-4098-a3c8-a6f9d9f561d2"
      },
      "source": [
        "# Now, we are drawing the line of polynomial regression.\n",
        "# \n",
        "import numpy\n",
        "import matplotlib.pyplot as plt\n",
        "from sklearn.metrics import r2_score\n",
        "x = [1,2,3,5,6,7,8,9,10,12,13,14,15,16,18,19,21,22]\n",
        "y = [100,90,80,60,60,55,60,65,70,70,75,76,78,79,90,99,99,100]\n",
        "\n",
        "mymodel = numpy.poly1d(numpy.polyfit(x, y, 3)) #numpy method to create a polynomial model\n",
        "\n",
        "myline = numpy.linspace(1, 23, 100) #start position = 1, end position = 22\n",
        "\n",
        "plt.scatter(x, y)\n",
        "plt.plot(myline, mymodel(myline)) #drawing line of polynomial regression\n",
        "plt.show()\n",
        "print(r2_score(y, mymodel(x)))\n",
        "\n",
        "speed = mymodel(17)\n",
        "print(speed)"
      ],
      "execution_count": 30,
      "outputs": [
        {
          "output_type": "display_data",
          "data": {
            "image/png": "[encoded data removed]",
            "text/plain": [
              "<Figure size 432x288 with 1 Axes>"
            ]
          },
          "metadata": {
            "tags": [],
            "needs_background": "light"
          }
        },
        {
          "output_type": "stream",
          "text": [
            "0.9432150416451026\n",
            "88.87331269697997\n"
          ],
          "name": "stdout"
        }
      ]
    },
    {
      "cell_type": "code",
      "metadata": {
        "colab": {
          "base_uri": "https://localhost:8080/",
          "height": 282
        },
        "id": "u2QcLJqOnwi2",
        "outputId": "00771b98-2f9e-4e2d-c120-ca9c56358876"
      },
      "source": [
        "import numpy\n",
        "import matplotlib.pyplot as plt\n",
        "from sklearn.metrics import r2_score\n",
        "x = [89,43,36,36,95,10,66,34,38,20,26,29,48,64,6,5,36,66,72,40]\n",
        "y = [21,46,3,35,67,95,53,72,58,10,26,34,90,33,38,20,56,2,47,15]\n",
        "\n",
        "mymodel = numpy.poly1d(numpy.polyfit(x, y, 3))\n",
        "\n",
        "myline = numpy.linspace(2, 95, 100)\n",
        "\n",
        "plt.scatter(x, y)\n",
        "plt.plot(myline, mymodel(myline))\n",
        "plt.show()\n",
        "print(r2_score(y, mymodel(x)))"
      ],
      "execution_count": 31,
      "outputs": [
        {
          "output_type": "display_data",
          "data": {
            "image/png": "[encoded data removed]",
            "text/plain": [
              "<Figure size 432x288 with 1 Axes>"
            ]
          },
          "metadata": {
            "tags": [],
            "needs_background": "light"
          }
        },
        {
          "output_type": "stream",
          "text": [
            "0.009952707566680652\n"
          ],
          "name": "stdout"
        }
      ]
    },
    {
      "cell_type": "markdown",
      "metadata": {
        "id": "exwdYZuvto1w"
      },
      "source": [
        "#### MULTIPLE REGRESSION"
      ]
    },
    {
      "cell_type": "code",
      "metadata": {
        "id": "Gd4Y_BsltuUv"
      },
      "source": [
        "import pandas\n",
        "df = pandas.read_csv(\"cars.csv\")\n",
        "X = df[['Weight', 'Volume']]\n",
        "y = df['CO2']"
      ],
      "execution_count": 32,
      "outputs": []
    },
    {
      "cell_type": "code",
      "metadata": {
        "colab": {
          "base_uri": "https://localhost:8080/",
          "height": 0
        },
        "id": "_jKqkYblNCYO",
        "outputId": "a4fe4619-85f5-4603-f209-91e9a2242fec"
      },
      "source": [
        "from sklearn import linear_model\n",
        "regr = linear_model.LinearRegression()\n",
        "regr.fit(X, y)\n",
        "#predict the CO2 emission of a car where the weight is 2300kg, and the volume is 1300cm3:\n",
        "predictedCO2 = regr.predict([[2300, 1300]])\n",
        "print(predictedCO2)"
      ],
      "execution_count": 33,
      "outputs": [
        {
          "output_type": "stream",
          "text": [
            "[107.2087328]\n"
          ],
          "name": "stdout"
        }
      ]
    },
    {
      "cell_type": "code",
      "metadata": {
        "colab": {
          "base_uri": "https://localhost:8080/",
          "height": 0
        },
        "id": "pyQvHKFINlfn",
        "outputId": "cdbaec9a-9d4b-40a7-9c17-c75a3d240121"
      },
      "source": [
        "from sklearn import linear_model\n",
        "print(regr.coef_)"
      ],
      "execution_count": 34,
      "outputs": [
        {
          "output_type": "stream",
          "text": [
            "[0.00755095 0.00780526]\n"
          ],
          "name": "stdout"
        }
      ]
    },
    {
      "cell_type": "code",
      "metadata": {
        "colab": {
          "base_uri": "https://localhost:8080/",
          "height": 0
        },
        "id": "nY6MrJ8NNzQj",
        "outputId": "1f22ebd8-b4bd-48b0-c0dd-c728631adff0"
      },
      "source": [
        "regr = linear_model.LinearRegression()\n",
        "regr.fit(X, y)\n",
        "\n",
        "predictedCO2 = regr.predict([[3300, 1300]])\n",
        "\n",
        "print(predictedCO2)"
      ],
      "execution_count": 35,
      "outputs": [
        {
          "output_type": "stream",
          "text": [
            "[114.75968007]\n"
          ],
          "name": "stdout"
        }
      ]
    },
    {
      "cell_type": "markdown",
      "metadata": {
        "id": "IBfRH3YzaIgm"
      },
      "source": [
        "#### SCALE FEATURES"
      ]
    },
    {
      "cell_type": "code",
      "metadata": {
        "colab": {
          "base_uri": "https://localhost:8080/",
          "height": 0
        },
        "id": "W2fuYixqaZ9_",
        "outputId": "e0eb889c-de65-4966-e6aa-7457dfe41793"
      },
      "source": [
        "import pandas\n",
        "from sklearn import linear_model\n",
        "from sklearn.preprocessing import StandardScaler\n",
        "scale = StandardScaler()\n",
        "\n",
        "df = pandas.read_csv(\"cars.csv\")\n",
        "\n",
        "X = df[['Weight', 'Volume']]\n",
        "\n",
        "scaledX = scale.fit_transform(X)\n",
        "\n",
        "print(scaledX)"
      ],
      "execution_count": 36,
      "outputs": [
        {
          "output_type": "stream",
          "text": [
            "[[-2.10389253 -1.59336644]\n",
            " [-0.55407235 -1.07190106]\n",
            " [-1.52166278 -1.59336644]\n",
            " [-1.78973979 -1.85409913]\n",
            " [-0.63784641 -0.28970299]\n",
            " [-1.52166278 -1.59336644]\n",
            " [-0.76769621 -0.55043568]\n",
            " [ 0.3046118  -0.28970299]\n",
            " [-0.7551301  -0.28970299]\n",
            " [-0.59595938 -0.0289703 ]\n",
            " [-1.30803892 -1.33263375]\n",
            " [-1.26615189 -0.81116837]\n",
            " [-0.7551301  -1.59336644]\n",
            " [-0.16871166 -0.0289703 ]\n",
            " [ 0.14125238 -0.0289703 ]\n",
            " [ 0.15800719 -0.0289703 ]\n",
            " [ 0.3046118  -0.0289703 ]\n",
            " [-0.05142797  1.53542584]\n",
            " [-0.72580918 -0.0289703 ]\n",
            " [ 0.14962979  1.01396046]\n",
            " [ 1.2219378  -0.0289703 ]\n",
            " [ 0.5685001   1.01396046]\n",
            " [ 0.3046118   1.27469315]\n",
            " [ 0.51404696 -0.0289703 ]\n",
            " [ 0.51404696  1.01396046]\n",
            " [ 0.72348212 -0.28970299]\n",
            " [ 0.8281997   1.01396046]\n",
            " [ 1.81254495  1.01396046]\n",
            " [ 0.96642691 -0.0289703 ]\n",
            " [ 1.72877089  1.01396046]\n",
            " [ 1.30990057  1.27469315]\n",
            " [ 1.90050772  1.01396046]\n",
            " [-0.23991961 -0.0289703 ]\n",
            " [ 0.40932938 -0.0289703 ]\n",
            " [ 0.47215993 -0.0289703 ]\n",
            " [ 0.4302729   2.31762392]]\n"
          ],
          "name": "stdout"
        }
      ]
    },
    {
      "cell_type": "code",
      "metadata": {
        "colab": {
          "base_uri": "https://localhost:8080/",
          "height": 0
        },
        "id": "4idQeRauaij7",
        "outputId": "0be01988-d632-43b3-f08e-d5891e8edbee"
      },
      "source": [
        "from sklearn import linear_model\n",
        "from sklearn.preprocessing import StandardScaler\n",
        "scale = StandardScaler()\n",
        "\n",
        "df = pandas.read_csv(\"cars.csv\")\n",
        "\n",
        "X = df[['Weight', 'Volume']]\n",
        "y = df['CO2']\n",
        "\n",
        "scaledX = scale.fit_transform(X)\n",
        "\n",
        "regr = linear_model.LinearRegression()\n",
        "regr.fit(scaledX, y)\n",
        "\n",
        "scaled = scale.transform([[2300, 1.3]])\n",
        "\n",
        "predictedCO2 = regr.predict([scaled[0]])\n",
        "print(predictedCO2)"
      ],
      "execution_count": 37,
      "outputs": [
        {
          "output_type": "stream",
          "text": [
            "[97.07204485]\n"
          ],
          "name": "stdout"
        }
      ]
    },
    {
      "cell_type": "markdown",
      "metadata": {
        "id": "mkcE5kR6ao5r"
      },
      "source": [
        "#### MACHINE LEARNING - TEST/TRAIN"
      ]
    },
    {
      "cell_type": "code",
      "metadata": {
        "colab": {
          "base_uri": "https://localhost:8080/",
          "height": 265
        },
        "id": "CuOCgmqAa4aR",
        "outputId": "ffe737b7-6150-4d3b-f4bc-ea2e019752f6"
      },
      "source": [
        "import numpy\n",
        "import matplotlib.pyplot as plt\n",
        "numpy.random.seed(2)\n",
        "\n",
        "x = numpy.random.normal(3, 1, 100)\n",
        "y = numpy.random.normal(150, 40, 100) / x\n",
        "\n",
        "plt.scatter(x, y)\n",
        "plt.show()"
      ],
      "execution_count": 38,
      "outputs": [
        {
          "output_type": "display_data",
          "data": {
            "image/png": "[encoded data removed]",
            "text/plain": [
              "<Figure size 432x288 with 1 Axes>"
            ]
          },
          "metadata": {
            "tags": [],
            "needs_background": "light"
          }
        }
      ]
    },
    {
      "cell_type": "code",
      "metadata": {
        "id": "4xvTH6qAa7Ah"
      },
      "source": [
        "train_x = x[:80]\n",
        "train_y = y[:80]\n",
        "\n",
        "test_x = x[80:]\n",
        "test_y = y[80:]"
      ],
      "execution_count": 39,
      "outputs": []
    },
    {
      "cell_type": "code",
      "metadata": {
        "colab": {
          "base_uri": "https://localhost:8080/",
          "height": 265
        },
        "id": "LXo8gLGNa-Be",
        "outputId": "aba84eea-d29a-4801-93fc-5fcb0c05db8a"
      },
      "source": [
        "plt.scatter(train_x, train_y)\n",
        "plt.show()"
      ],
      "execution_count": 40,
      "outputs": [
        {
          "output_type": "display_data",
          "data": {
            "image/png": "[encoded data removed]",
            "text/plain": [
              "<Figure size 432x288 with 1 Axes>"
            ]
          },
          "metadata": {
            "tags": [],
            "needs_background": "light"
          }
        }
      ]
    },
    {
      "cell_type": "code",
      "metadata": {
        "colab": {
          "base_uri": "https://localhost:8080/",
          "height": 265
        },
        "id": "PyE3yvANbAdo",
        "outputId": "9ba4666a-2bee-4259-f177-5da542b9687a"
      },
      "source": [
        "plt.scatter(test_x, test_y)\n",
        "plt.show()"
      ],
      "execution_count": 41,
      "outputs": [
        {
          "output_type": "display_data",
          "data": {
            "image/png": "[encoded data removed]",
            "text/plain": [
              "<Figure size 432x288 with 1 Axes>"
            ]
          },
          "metadata": {
            "tags": [],
            "needs_background": "light"
          }
        }
      ]
    },
    {
      "cell_type": "code",
      "metadata": {
        "colab": {
          "base_uri": "https://localhost:8080/",
          "height": 300
        },
        "id": "y9sa77M2bDDz",
        "outputId": "39e84be2-ea27-4225-bfe7-4c74fa7b31be"
      },
      "source": [
        "import numpy\n",
        "import matplotlib.pyplot as plt\n",
        "from sklearn.metrics import r2_score\n",
        "numpy.random.seed(2)\n",
        "\n",
        "x = numpy.random.normal(3, 1, 100)\n",
        "y = numpy.random.normal(150, 40, 100) / x\n",
        "\n",
        "train_x = x[:80]\n",
        "train_y = y[:80]\n",
        "\n",
        "test_x = x[80:]\n",
        "test_y = y[80:]\n",
        "\n",
        "mymodel = numpy.poly1d(numpy.polyfit(train_x, train_y, 4))\n",
        "\n",
        "myline = numpy.linspace(0, 6, 100)\n",
        "\n",
        "plt.scatter(train_x, train_y)\n",
        "plt.plot(myline, mymodel(myline))\n",
        "plt.show()\n",
        "\n",
        "r2 = r2_score(train_y, mymodel(train_x))\n",
        "\n",
        "print(r2)\n",
        "\n",
        "r2 = r2_score(test_y, mymodel(test_x))\n",
        "\n",
        "print(r2)"
      ],
      "execution_count": 42,
      "outputs": [
        {
          "output_type": "display_data",
          "data": {
            "image/png": "[encoded data removed]",
            "text/plain": [
              "<Figure size 432x288 with 1 Axes>"
            ]
          },
          "metadata": {
            "tags": [],
            "needs_background": "light"
          }
        },
        {
          "output_type": "stream",
          "text": [
            "0.7988645544629799\n",
            "0.8086921460343645\n"
          ],
          "name": "stdout"
        }
      ]
    },
    {
      "cell_type": "code",
      "metadata": {
        "colab": {
          "base_uri": "https://localhost:8080/",
          "height": 0
        },
        "id": "PaySOzKlbbOk",
        "outputId": "0e51dbb8-63c4-4515-93e5-41103e0054fe"
      },
      "source": [
        "print(mymodel(5))"
      ],
      "execution_count": 43,
      "outputs": [
        {
          "output_type": "stream",
          "text": [
            "22.879625918122656\n"
          ],
          "name": "stdout"
        }
      ]
    },
    {
      "cell_type": "markdown",
      "metadata": {
        "id": "FKAvjLK5bgHE"
      },
      "source": [
        "#### DECISION TREEE"
      ]
    },
    {
      "cell_type": "code",
      "metadata": {
        "colab": {
          "base_uri": "https://localhost:8080/",
          "height": 0
        },
        "id": "8u6ByDVwbi12",
        "outputId": "794e4ad9-d86d-476f-fcc9-bb36efdbc856"
      },
      "source": [
        "import pandas\n",
        "from sklearn import tree\n",
        "import pydotplus\n",
        "from sklearn.tree import DecisionTreeClassifier\n",
        "import matplotlib.pyplot as plt\n",
        "import matplotlib.image as pltimg\n",
        "\n",
        "df = pandas.read_csv(\"shows.csv\")\n",
        "\n",
        "print(df)"
      ],
      "execution_count": 44,
      "outputs": [
        {
          "output_type": "stream",
          "text": [
            "    Age  Experience  Rank Nationality   Go\n",
            "0    36          10     9          UK   NO\n",
            "1    42          12     4         USA   NO\n",
            "2    23           4     6           N   NO\n",
            "3    52           4     4         USA   NO\n",
            "4    43          21     8         USA  YES\n",
            "5    44          14     5          UK   NO\n",
            "6    66           3     7           N  YES\n",
            "7    35          14     9          UK  YES\n",
            "8    52          13     7           N  YES\n",
            "9    35           5     9           N  YES\n",
            "10   24           3     5         USA   NO\n",
            "11   18           3     7          UK  YES\n",
            "12   45           9     9          UK  YES\n"
          ],
          "name": "stdout"
        }
      ]
    },
    {
      "cell_type": "code",
      "metadata": {
        "colab": {
          "base_uri": "https://localhost:8080/",
          "height": 0
        },
        "id": "U5gHlxc7cCyZ",
        "outputId": "9401fbb0-48d5-4034-9e60-9408236404a1"
      },
      "source": [
        "d = {'UK': 0, 'USA': 1, 'N': 2}\n",
        "df['Nationality'] = df['Nationality'].map(d)\n",
        "d = {'YES': 1, 'NO': 0}\n",
        "df['Go'] = df['Go'].map(d)\n",
        "\n",
        "print(df)"
      ],
      "execution_count": 45,
      "outputs": [
        {
          "output_type": "stream",
          "text": [
            "    Age  Experience  Rank  Nationality  Go\n",
            "0    36          10     9            0   0\n",
            "1    42          12     4            1   0\n",
            "2    23           4     6            2   0\n",
            "3    52           4     4            1   0\n",
            "4    43          21     8            1   1\n",
            "5    44          14     5            0   0\n",
            "6    66           3     7            2   1\n",
            "7    35          14     9            0   1\n",
            "8    52          13     7            2   1\n",
            "9    35           5     9            2   1\n",
            "10   24           3     5            1   0\n",
            "11   18           3     7            0   1\n",
            "12   45           9     9            0   1\n"
          ],
          "name": "stdout"
        }
      ]
    },
    {
      "cell_type": "code",
      "metadata": {
        "colab": {
          "base_uri": "https://localhost:8080/",
          "height": 0
        },
        "id": "SjvFR3n7cETZ",
        "outputId": "0decb566-a033-4ecb-fff7-1cd7b234c8d9"
      },
      "source": [
        "features = ['Age', 'Experience', 'Rank', 'Nationality']\n",
        "\n",
        "X = df[features]\n",
        "y = df['Go']\n",
        "\n",
        "print(X)\n",
        "print(y)"
      ],
      "execution_count": 46,
      "outputs": [
        {
          "output_type": "stream",
          "text": [
            "    Age  Experience  Rank  Nationality\n",
            "0    36          10     9            0\n",
            "1    42          12     4            1\n",
            "2    23           4     6            2\n",
            "3    52           4     4            1\n",
            "4    43          21     8            1\n",
            "5    44          14     5            0\n",
            "6    66           3     7            2\n",
            "7    35          14     9            0\n",
            "8    52          13     7            2\n",
            "9    35           5     9            2\n",
            "10   24           3     5            1\n",
            "11   18           3     7            0\n",
            "12   45           9     9            0\n",
            "0     0\n",
            "1     0\n",
            "2     0\n",
            "3     0\n",
            "4     1\n",
            "5     0\n",
            "6     1\n",
            "7     1\n",
            "8     1\n",
            "9     1\n",
            "10    0\n",
            "11    1\n",
            "12    1\n",
            "Name: Go, dtype: int64\n"
          ],
          "name": "stdout"
        }
      ]
    },
    {
      "cell_type": "code",
      "metadata": {
        "colab": {
          "base_uri": "https://localhost:8080/",
          "height": 269
        },
        "id": "uBeoMGhzcGsy",
        "outputId": "23bfdc20-7e39-4127-96d7-909879bdbb1c"
      },
      "source": [
        "dtree = DecisionTreeClassifier()\n",
        "dtree = dtree.fit(X, y)\n",
        "data = tree.export_graphviz(dtree, out_file=None, feature_names=features)\n",
        "graph = pydotplus.graph_from_dot_data(data)\n",
        "graph.write_png('mydecisiontree.png')\n",
        "\n",
        "img=pltimg.imread('mydecisiontree.png')\n",
        "imgplot = plt.imshow(img)\n",
        "plt.show()"
      ],
      "execution_count": 47,
      "outputs": [
        {
          "output_type": "display_data",
          "data": {
            "image/png": "[encoded data removed]",
            "text/plain": [
              "<Figure size 432x288 with 1 Axes>"
            ]
          },
          "metadata": {
            "tags": [],
            "needs_background": "light"
          }
        }
      ]
    },
    {
      "cell_type": "markdown",
      "metadata": {
        "id": "0OSIjajycn2u"
      },
      "source": [
        "# 4. Implementation of linear regression\n"
      ]
    },
    {
      "cell_type": "markdown",
      "metadata": {
        "id": "dekkDwJtc-Fl"
      },
      "source": [
        "* Importing the necessary libraries"
      ]
    },
    {
      "cell_type": "code",
      "metadata": {
        "id": "Y88CzM3ecjTd"
      },
      "source": [
        "import matplotlib\n",
        "import matplotlib.pyplot as plt\n",
        "import numpy as np\n",
        "import pandas as pd\n",
        "import sklearn\n",
        "from sklearn import linear_model"
      ],
      "execution_count": 48,
      "outputs": []
    },
    {
      "cell_type": "markdown",
      "metadata": {
        "id": "Av-ujukpdCp2"
      },
      "source": [
        "* Considering our dataset\n",
        "* height vs weight of a person \n",
        "* plotting the data points using "
      ]
    },
    {
      "cell_type": "code",
      "metadata": {
        "colab": {
          "base_uri": "https://localhost:8080/",
          "height": 296
        },
        "id": "J6SNLJQScwfP",
        "outputId": "db4321bc-d744-44f3-c218-4cfbbea73720"
      },
      "source": [
        "height=[[4.0],[5.0],[6.0],[7.0],[8.0],[9.0],[10.0]]\n",
        "weight=[ 16, 25 , 36, 49, 64, 81, 100]\n",
        "plt.scatter(height,weight,color='black')\n",
        "plt.xlabel(\"height\")\n",
        "plt.ylabel(\"weight\")"
      ],
      "execution_count": 49,
      "outputs": [
        {
          "output_type": "execute_result",
          "data": {
            "text/plain": [
              "Text(0, 0.5, 'weight')"
            ]
          },
          "metadata": {
            "tags": []
          },
          "execution_count": 49
        },
        {
          "output_type": "display_data",
          "data": {
            "image/png": "[encoded data removed]",
            "text/plain": [
              "<Figure size 432x288 with 1 Axes>"
            ]
          },
          "metadata": {
            "tags": [],
            "needs_background": "light"
          }
        }
      ]
    },
    {
      "cell_type": "markdown",
      "metadata": {
        "id": "15wpcSaRdMwd"
      },
      "source": [
        "* Calling the linear regression algorithm\n",
        "* giving a new value of height as 12 for the model so as to predict the weight"
      ]
    },
    {
      "cell_type": "code",
      "metadata": {
        "colab": {
          "base_uri": "https://localhost:8080/",
          "height": 0
        },
        "id": "hl0V4GBKc03D",
        "outputId": "ff2ca467-9e2a-4aa2-ee2f-3851ace88fc8"
      },
      "source": [
        "reg=linear_model.LinearRegression()\n",
        "reg.fit(height,weight)\n",
        "X_height=[[12.0]]\n",
        "print(reg.predict(X_height))"
      ],
      "execution_count": 50,
      "outputs": [
        {
          "output_type": "stream",
          "text": [
            "[123.]\n"
          ],
          "name": "stdout"
        }
      ]
    },
    {
      "cell_type": "markdown",
      "metadata": {
        "id": "sRIXufNhcrqK"
      },
      "source": [
        "#5. Implementation of gradient descent\n"
      ]
    },
    {
      "cell_type": "markdown",
      "metadata": {
        "id": "vQZdf4ojdf6T"
      },
      "source": [
        "* Gradient Descent is an optimization algorithm to find the minimum of a function. \n",
        "* We start with a random point on the function and move in the negative direction of the gradient of the function to reach the local/global minima.\n",
        "\n",
        "* Find the local minima of the function y=(x+5)² starting from the point x=3\n"
      ]
    },
    {
      "cell_type": "markdown",
      "metadata": {
        "id": "1HCgvMiVmI8d"
      },
      "source": [
        " Initialize parameters"
      ]
    },
    {
      "cell_type": "code",
      "metadata": {
        "id": "JG6KZ5PAdmWY"
      },
      "source": [
        "cur_x = 3 # The algorithm starts at x=3\n",
        "rate = 0.01 # Learning rate\n",
        "precision = 0.000001 #This tells us when to stop the algorithm\n",
        "previous_step_size = 1 #\n",
        "max_iters = 10000 # maximum number of iterations\n",
        "iters = 0 #iteration counter\n",
        "df = lambda x: 2*(x+5) #Gradient of our function"
      ],
      "execution_count": 51,
      "outputs": []
    },
    {
      "cell_type": "markdown",
      "metadata": {
        "id": "5wcd6KC5mlYb"
      },
      "source": [
        "* Let us set a precision variable in our algorithm which calculates the difference between two consecutive “x” values .\n",
        "* If the difference between x values from 2 consecutive iterations is lesser than the precision we set, stop the algorithm."
      ]
    },
    {
      "cell_type": "markdown",
      "metadata": {
        "id": "tojzBenhmKRG"
      },
      "source": [
        "Run a loop to perform gradient descent\n",
        "\n",
        "Stop loop when difference between x values from 2 consecutive iterations is less than 0.000001 or when number of iterations exceeds 10,000\n"
      ]
    },
    {
      "cell_type": "code",
      "metadata": {
        "colab": {
          "base_uri": "https://localhost:8080/",
          "height": 0
        },
        "id": "ZAg2dYKclfqb",
        "outputId": "008563de-4e8b-4133-a606-69020ff83347"
      },
      "source": [
        "while previous_step_size > precision and iters < max_iters:\n",
        "    prev_x = cur_x #Store current x value in prev_x\n",
        "    cur_x = cur_x - rate * df(prev_x) #Grad descent\n",
        "    previous_step_size = abs(cur_x - prev_x) #Change in x\n",
        "    iters = iters+1 #iteration count\n",
        "    print(\"Iteration\",iters,\"\\nX value is\",cur_x) #Print iterations\n",
        "    \n",
        "print(\"The local minimum occurs at\", cur_x)"
      ],
      "execution_count": 52,
      "outputs": [
        {
          "output_type": "stream",
          "text": [
            "Iteration 1 \n",
            "X value is 2.84\n",
            "Iteration 2 \n",
            "X value is 2.6832\n",
            "Iteration 3 \n",
            "X value is 2.529536\n",
            "Iteration 4 \n",
            "X value is 2.37894528\n",
            "Iteration 5 \n",
            "X value is 2.2313663744\n",
            "Iteration 6 \n",
            "X value is 2.0867390469119997\n",
            "Iteration 7 \n",
            "X value is 1.9450042659737599\n",
            "Iteration 8 \n",
            "X value is 1.8061041806542846\n",
            "Iteration 9 \n",
            "X value is 1.669982097041199\n",
            "Iteration 10 \n",
            "X value is 1.5365824551003748\n",
            "Iteration 11 \n",
            "X value is 1.4058508059983674\n",
            "Iteration 12 \n",
            "X value is 1.2777337898784\n",
            "Iteration 13 \n",
            "X value is 1.152179114080832\n",
            "Iteration 14 \n",
            "X value is 1.0291355317992152\n",
            "Iteration 15 \n",
            "X value is 0.9085528211632309\n",
            "Iteration 16 \n",
            "X value is 0.7903817647399662\n",
            "Iteration 17 \n",
            "X value is 0.6745741294451669\n",
            "Iteration 18 \n",
            "X value is 0.5610826468562635\n",
            "Iteration 19 \n",
            "X value is 0.44986099391913825\n",
            "Iteration 20 \n",
            "X value is 0.3408637740407555\n",
            "Iteration 21 \n",
            "X value is 0.23404649855994042\n",
            "Iteration 22 \n",
            "X value is 0.1293655685887416\n",
            "Iteration 23 \n",
            "X value is 0.026778257216966764\n",
            "Iteration 24 \n",
            "X value is -0.07375730792737258\n",
            "Iteration 25 \n",
            "X value is -0.1722821617688251\n",
            "Iteration 26 \n",
            "X value is -0.2688365185334486\n",
            "Iteration 27 \n",
            "X value is -0.36345978816277963\n",
            "Iteration 28 \n",
            "X value is -0.45619059239952403\n",
            "Iteration 29 \n",
            "X value is -0.5470667805515336\n",
            "Iteration 30 \n",
            "X value is -0.6361254449405029\n",
            "Iteration 31 \n",
            "X value is -0.7234029360416929\n",
            "Iteration 32 \n",
            "X value is -0.8089348773208591\n",
            "Iteration 33 \n",
            "X value is -0.8927561797744419\n",
            "Iteration 34 \n",
            "X value is -0.9749010561789531\n",
            "Iteration 35 \n",
            "X value is -1.055403035055374\n",
            "Iteration 36 \n",
            "X value is -1.1342949743542665\n",
            "Iteration 37 \n",
            "X value is -1.2116090748671813\n",
            "Iteration 38 \n",
            "X value is -1.2873768933698377\n",
            "Iteration 39 \n",
            "X value is -1.361629355502441\n",
            "Iteration 40 \n",
            "X value is -1.4343967683923922\n",
            "Iteration 41 \n",
            "X value is -1.5057088330245443\n",
            "Iteration 42 \n",
            "X value is -1.5755946563640535\n",
            "Iteration 43 \n",
            "X value is -1.6440827632367725\n",
            "Iteration 44 \n",
            "X value is -1.711201107972037\n",
            "Iteration 45 \n",
            "X value is -1.7769770858125964\n",
            "Iteration 46 \n",
            "X value is -1.8414375440963444\n",
            "Iteration 47 \n",
            "X value is -1.9046087932144176\n",
            "Iteration 48 \n",
            "X value is -1.9665166173501292\n",
            "Iteration 49 \n",
            "X value is -2.0271862850031264\n",
            "Iteration 50 \n",
            "X value is -2.0866425593030637\n",
            "Iteration 51 \n",
            "X value is -2.1449097081170025\n",
            "Iteration 52 \n",
            "X value is -2.2020115139546625\n",
            "Iteration 53 \n",
            "X value is -2.257971283675569\n",
            "Iteration 54 \n",
            "X value is -2.312811858002058\n",
            "Iteration 55 \n",
            "X value is -2.3665556208420164\n",
            "Iteration 56 \n",
            "X value is -2.419224508425176\n",
            "Iteration 57 \n",
            "X value is -2.4708400182566725\n",
            "Iteration 58 \n",
            "X value is -2.521423217891539\n",
            "Iteration 59 \n",
            "X value is -2.570994753533708\n",
            "Iteration 60 \n",
            "X value is -2.619574858463034\n",
            "Iteration 61 \n",
            "X value is -2.667183361293773\n",
            "Iteration 62 \n",
            "X value is -2.713839694067898\n",
            "Iteration 63 \n",
            "X value is -2.75956290018654\n",
            "Iteration 64 \n",
            "X value is -2.804371642182809\n",
            "Iteration 65 \n",
            "X value is -2.8482842093391527\n",
            "Iteration 66 \n",
            "X value is -2.8913185251523696\n",
            "Iteration 67 \n",
            "X value is -2.9334921546493224\n",
            "Iteration 68 \n",
            "X value is -2.974822311556336\n",
            "Iteration 69 \n",
            "X value is -3.015325865325209\n",
            "Iteration 70 \n",
            "X value is -3.055019348018705\n",
            "Iteration 71 \n",
            "X value is -3.093918961058331\n",
            "Iteration 72 \n",
            "X value is -3.1320405818371646\n",
            "Iteration 73 \n",
            "X value is -3.1693997702004215\n",
            "Iteration 74 \n",
            "X value is -3.206011774796413\n",
            "Iteration 75 \n",
            "X value is -3.2418915393004846\n",
            "Iteration 76 \n",
            "X value is -3.277053708514475\n",
            "Iteration 77 \n",
            "X value is -3.3115126343441856\n",
            "Iteration 78 \n",
            "X value is -3.345282381657302\n",
            "Iteration 79 \n",
            "X value is -3.378376734024156\n",
            "Iteration 80 \n",
            "X value is -3.4108091993436727\n",
            "Iteration 81 \n",
            "X value is -3.4425930153567994\n",
            "Iteration 82 \n",
            "X value is -3.4737411550496633\n",
            "Iteration 83 \n",
            "X value is -3.50426633194867\n",
            "Iteration 84 \n",
            "X value is -3.534181005309697\n",
            "Iteration 85 \n",
            "X value is -3.563497385203503\n",
            "Iteration 86 \n",
            "X value is -3.5922274374994325\n",
            "Iteration 87 \n",
            "X value is -3.620382888749444\n",
            "Iteration 88 \n",
            "X value is -3.6479752309744553\n",
            "Iteration 89 \n",
            "X value is -3.675015726354966\n",
            "Iteration 90 \n",
            "X value is -3.7015154118278666\n",
            "Iteration 91 \n",
            "X value is -3.7274851035913095\n",
            "Iteration 92 \n",
            "X value is -3.7529354015194833\n",
            "Iteration 93 \n",
            "X value is -3.7778766934890937\n",
            "Iteration 94 \n",
            "X value is -3.8023191596193118\n",
            "Iteration 95 \n",
            "X value is -3.8262727764269258\n",
            "Iteration 96 \n",
            "X value is -3.8497473208983872\n",
            "Iteration 97 \n",
            "X value is -3.8727523744804193\n",
            "Iteration 98 \n",
            "X value is -3.895297326990811\n",
            "Iteration 99 \n",
            "X value is -3.917391380450995\n",
            "Iteration 100 \n",
            "X value is -3.939043552841975\n",
            "Iteration 101 \n",
            "X value is -3.9602626817851356\n",
            "Iteration 102 \n",
            "X value is -3.981057428149433\n",
            "Iteration 103 \n",
            "X value is -4.001436279586445\n",
            "Iteration 104 \n",
            "X value is -4.021407553994716\n",
            "Iteration 105 \n",
            "X value is -4.040979402914822\n",
            "Iteration 106 \n",
            "X value is -4.060159814856525\n",
            "Iteration 107 \n",
            "X value is -4.078956618559395\n",
            "Iteration 108 \n",
            "X value is -4.097377486188207\n",
            "Iteration 109 \n",
            "X value is -4.115429936464443\n",
            "Iteration 110 \n",
            "X value is -4.133121337735154\n",
            "Iteration 111 \n",
            "X value is -4.150458910980451\n",
            "Iteration 112 \n",
            "X value is -4.167449732760842\n",
            "Iteration 113 \n",
            "X value is -4.1841007381056246\n",
            "Iteration 114 \n",
            "X value is -4.200418723343512\n",
            "Iteration 115 \n",
            "X value is -4.216410348876642\n",
            "Iteration 116 \n",
            "X value is -4.2320821418991095\n",
            "Iteration 117 \n",
            "X value is -4.247440499061128\n",
            "Iteration 118 \n",
            "X value is -4.262491689079905\n",
            "Iteration 119 \n",
            "X value is -4.277241855298307\n",
            "Iteration 120 \n",
            "X value is -4.291697018192341\n",
            "Iteration 121 \n",
            "X value is -4.305863077828494\n",
            "Iteration 122 \n",
            "X value is -4.319745816271924\n",
            "Iteration 123 \n",
            "X value is -4.333350899946486\n",
            "Iteration 124 \n",
            "X value is -4.3466838819475555\n",
            "Iteration 125 \n",
            "X value is -4.359750204308605\n",
            "Iteration 126 \n",
            "X value is -4.372555200222433\n",
            "Iteration 127 \n",
            "X value is -4.385104096217984\n",
            "Iteration 128 \n",
            "X value is -4.3974020142936245\n",
            "Iteration 129 \n",
            "X value is -4.409453974007752\n",
            "Iteration 130 \n",
            "X value is -4.421264894527597\n",
            "Iteration 131 \n",
            "X value is -4.432839596637045\n",
            "Iteration 132 \n",
            "X value is -4.444182804704305\n",
            "Iteration 133 \n",
            "X value is -4.4552991486102185\n",
            "Iteration 134 \n",
            "X value is -4.466193165638014\n",
            "Iteration 135 \n",
            "X value is -4.4768693023252535\n",
            "Iteration 136 \n",
            "X value is -4.487331916278748\n",
            "Iteration 137 \n",
            "X value is -4.497585277953173\n",
            "Iteration 138 \n",
            "X value is -4.50763357239411\n",
            "Iteration 139 \n",
            "X value is -4.517480900946228\n",
            "Iteration 140 \n",
            "X value is -4.527131282927304\n",
            "Iteration 141 \n",
            "X value is -4.536588657268758\n",
            "Iteration 142 \n",
            "X value is -4.545856884123382\n",
            "Iteration 143 \n",
            "X value is -4.5549397464409145\n",
            "Iteration 144 \n",
            "X value is -4.563840951512097\n",
            "Iteration 145 \n",
            "X value is -4.572564132481855\n",
            "Iteration 146 \n",
            "X value is -4.581112849832218\n",
            "Iteration 147 \n",
            "X value is -4.589490592835574\n",
            "Iteration 148 \n",
            "X value is -4.597700780978863\n",
            "Iteration 149 \n",
            "X value is -4.605746765359285\n",
            "Iteration 150 \n",
            "X value is -4.6136318300521\n",
            "Iteration 151 \n",
            "X value is -4.621359193451058\n",
            "Iteration 152 \n",
            "X value is -4.628932009582036\n",
            "Iteration 153 \n",
            "X value is -4.636353369390395\n",
            "Iteration 154 \n",
            "X value is -4.643626302002588\n",
            "Iteration 155 \n",
            "X value is -4.650753775962536\n",
            "Iteration 156 \n",
            "X value is -4.657738700443285\n",
            "Iteration 157 \n",
            "X value is -4.664583926434419\n",
            "Iteration 158 \n",
            "X value is -4.671292247905731\n",
            "Iteration 159 \n",
            "X value is -4.6778664029476165\n",
            "Iteration 160 \n",
            "X value is -4.684309074888664\n",
            "Iteration 161 \n",
            "X value is -4.6906228933908904\n",
            "Iteration 162 \n",
            "X value is -4.696810435523073\n",
            "Iteration 163 \n",
            "X value is -4.702874226812612\n",
            "Iteration 164 \n",
            "X value is -4.708816742276359\n",
            "Iteration 165 \n",
            "X value is -4.714640407430832\n",
            "Iteration 166 \n",
            "X value is -4.720347599282215\n",
            "Iteration 167 \n",
            "X value is -4.725940647296571\n",
            "Iteration 168 \n",
            "X value is -4.731421834350639\n",
            "Iteration 169 \n",
            "X value is -4.736793397663627\n",
            "Iteration 170 \n",
            "X value is -4.742057529710355\n",
            "Iteration 171 \n",
            "X value is -4.747216379116147\n",
            "Iteration 172 \n",
            "X value is -4.752272051533824\n",
            "Iteration 173 \n",
            "X value is -4.757226610503148\n",
            "Iteration 174 \n",
            "X value is -4.762082078293084\n",
            "Iteration 175 \n",
            "X value is -4.766840436727223\n",
            "Iteration 176 \n",
            "X value is -4.771503627992678\n",
            "Iteration 177 \n",
            "X value is -4.776073555432824\n",
            "Iteration 178 \n",
            "X value is -4.780552084324168\n",
            "Iteration 179 \n",
            "X value is -4.784941042637685\n",
            "Iteration 180 \n",
            "X value is -4.7892422217849315\n",
            "Iteration 181 \n",
            "X value is -4.793457377349233\n",
            "Iteration 182 \n",
            "X value is -4.7975882298022485\n",
            "Iteration 183 \n",
            "X value is -4.801636465206204\n",
            "Iteration 184 \n",
            "X value is -4.805603735902079\n",
            "Iteration 185 \n",
            "X value is -4.809491661184038\n",
            "Iteration 186 \n",
            "X value is -4.813301827960357\n",
            "Iteration 187 \n",
            "X value is -4.81703579140115\n",
            "Iteration 188 \n",
            "X value is -4.820695075573127\n",
            "Iteration 189 \n",
            "X value is -4.824281174061665\n",
            "Iteration 190 \n",
            "X value is -4.827795550580431\n",
            "Iteration 191 \n",
            "X value is -4.831239639568823\n",
            "Iteration 192 \n",
            "X value is -4.834614846777447\n",
            "Iteration 193 \n",
            "X value is -4.837922549841898\n",
            "Iteration 194 \n",
            "X value is -4.84116409884506\n",
            "Iteration 195 \n",
            "X value is -4.844340816868159\n",
            "Iteration 196 \n",
            "X value is -4.847454000530796\n",
            "Iteration 197 \n",
            "X value is -4.85050492052018\n",
            "Iteration 198 \n",
            "X value is -4.853494822109776\n",
            "Iteration 199 \n",
            "X value is -4.85642492566758\n",
            "Iteration 200 \n",
            "X value is -4.859296427154229\n",
            "Iteration 201 \n",
            "X value is -4.862110498611145\n",
            "Iteration 202 \n",
            "X value is -4.864868288638922\n",
            "Iteration 203 \n",
            "X value is -4.867570922866143\n",
            "Iteration 204 \n",
            "X value is -4.87021950440882\n",
            "Iteration 205 \n",
            "X value is -4.872815114320644\n",
            "Iteration 206 \n",
            "X value is -4.875358812034231\n",
            "Iteration 207 \n",
            "X value is -4.877851635793546\n",
            "Iteration 208 \n",
            "X value is -4.880294603077676\n",
            "Iteration 209 \n",
            "X value is -4.882688711016122\n",
            "Iteration 210 \n",
            "X value is -4.8850349367958\n",
            "Iteration 211 \n",
            "X value is -4.887334238059884\n",
            "Iteration 212 \n",
            "X value is -4.8895875532986866\n",
            "Iteration 213 \n",
            "X value is -4.891795802232712\n",
            "Iteration 214 \n",
            "X value is -4.893959886188058\n",
            "Iteration 215 \n",
            "X value is -4.896080688464297\n",
            "Iteration 216 \n",
            "X value is -4.898159074695011\n",
            "Iteration 217 \n",
            "X value is -4.9001958932011105\n",
            "Iteration 218 \n",
            "X value is -4.902191975337089\n",
            "Iteration 219 \n",
            "X value is -4.904148135830347\n",
            "Iteration 220 \n",
            "X value is -4.90606517311374\n",
            "Iteration 221 \n",
            "X value is -4.907943869651465\n",
            "Iteration 222 \n",
            "X value is -4.909784992258436\n",
            "Iteration 223 \n",
            "X value is -4.911589292413267\n",
            "Iteration 224 \n",
            "X value is -4.913357506565002\n",
            "Iteration 225 \n",
            "X value is -4.915090356433702\n",
            "Iteration 226 \n",
            "X value is -4.9167885493050285\n",
            "Iteration 227 \n",
            "X value is -4.918452778318928\n",
            "Iteration 228 \n",
            "X value is -4.920083722752549\n",
            "Iteration 229 \n",
            "X value is -4.921682048297498\n",
            "Iteration 230 \n",
            "X value is -4.923248407331548\n",
            "Iteration 231 \n",
            "X value is -4.9247834391849175\n",
            "Iteration 232 \n",
            "X value is -4.926287770401219\n",
            "Iteration 233 \n",
            "X value is -4.927762014993195\n",
            "Iteration 234 \n",
            "X value is -4.929206774693331\n",
            "Iteration 235 \n",
            "X value is -4.930622639199464\n",
            "Iteration 236 \n",
            "X value is -4.932010186415474\n",
            "Iteration 237 \n",
            "X value is -4.933369982687164\n",
            "Iteration 238 \n",
            "X value is -4.934702583033421\n",
            "Iteration 239 \n",
            "X value is -4.936008531372753\n",
            "Iteration 240 \n",
            "X value is -4.937288360745298\n",
            "Iteration 241 \n",
            "X value is -4.938542593530392\n",
            "Iteration 242 \n",
            "X value is -4.939771741659784\n",
            "Iteration 243 \n",
            "X value is -4.940976306826588\n",
            "Iteration 244 \n",
            "X value is -4.942156780690056\n",
            "Iteration 245 \n",
            "X value is -4.943313645076255\n",
            "Iteration 246 \n",
            "X value is -4.94444737217473\n",
            "Iteration 247 \n",
            "X value is -4.945558424731236\n",
            "Iteration 248 \n",
            "X value is -4.946647256236611\n",
            "Iteration 249 \n",
            "X value is -4.947714311111879\n",
            "Iteration 250 \n",
            "X value is -4.9487600248896415\n",
            "Iteration 251 \n",
            "X value is -4.949784824391848\n",
            "Iteration 252 \n",
            "X value is -4.950789127904011\n",
            "Iteration 253 \n",
            "X value is -4.951773345345931\n",
            "Iteration 254 \n",
            "X value is -4.952737878439012\n",
            "Iteration 255 \n",
            "X value is -4.953683120870232\n",
            "Iteration 256 \n",
            "X value is -4.954609458452827\n",
            "Iteration 257 \n",
            "X value is -4.955517269283771\n",
            "Iteration 258 \n",
            "X value is -4.956406923898095\n",
            "Iteration 259 \n",
            "X value is -4.957278785420133\n",
            "Iteration 260 \n",
            "X value is -4.958133209711731\n",
            "Iteration 261 \n",
            "X value is -4.958970545517496\n",
            "Iteration 262 \n",
            "X value is -4.959791134607146\n",
            "Iteration 263 \n",
            "X value is -4.960595311915003\n",
            "Iteration 264 \n",
            "X value is -4.9613834056767026\n",
            "Iteration 265 \n",
            "X value is -4.962155737563169\n",
            "Iteration 266 \n",
            "X value is -4.962912622811905\n",
            "Iteration 267 \n",
            "X value is -4.963654370355667\n",
            "Iteration 268 \n",
            "X value is -4.964381282948554\n",
            "Iteration 269 \n",
            "X value is -4.965093657289583\n",
            "Iteration 270 \n",
            "X value is -4.965791784143791\n",
            "Iteration 271 \n",
            "X value is -4.966475948460915\n",
            "Iteration 272 \n",
            "X value is -4.967146429491697\n",
            "Iteration 273 \n",
            "X value is -4.967803500901863\n",
            "Iteration 274 \n",
            "X value is -4.968447430883826\n",
            "Iteration 275 \n",
            "X value is -4.969078482266149\n",
            "Iteration 276 \n",
            "X value is -4.969696912620826\n",
            "Iteration 277 \n",
            "X value is -4.970302974368409\n",
            "Iteration 278 \n",
            "X value is -4.970896914881041\n",
            "Iteration 279 \n",
            "X value is -4.97147897658342\n",
            "Iteration 280 \n",
            "X value is -4.972049397051752\n",
            "Iteration 281 \n",
            "X value is -4.972608409110717\n",
            "Iteration 282 \n",
            "X value is -4.973156240928502\n",
            "Iteration 283 \n",
            "X value is -4.973693116109932\n",
            "Iteration 284 \n",
            "X value is -4.974219253787734\n",
            "Iteration 285 \n",
            "X value is -4.974734868711979\n",
            "Iteration 286 \n",
            "X value is -4.975240171337739\n",
            "Iteration 287 \n",
            "X value is -4.975735367910985\n",
            "Iteration 288 \n",
            "X value is -4.976220660552765\n",
            "Iteration 289 \n",
            "X value is -4.976696247341709\n",
            "Iteration 290 \n",
            "X value is -4.977162322394875\n",
            "Iteration 291 \n",
            "X value is -4.977619075946977\n",
            "Iteration 292 \n",
            "X value is -4.978066694428038\n",
            "Iteration 293 \n",
            "X value is -4.978505360539477\n",
            "Iteration 294 \n",
            "X value is -4.978935253328687\n",
            "Iteration 295 \n",
            "X value is -4.979356548262113\n",
            "Iteration 296 \n",
            "X value is -4.979769417296871\n",
            "Iteration 297 \n",
            "X value is -4.980174028950934\n",
            "Iteration 298 \n",
            "X value is -4.980570548371915\n",
            "Iteration 299 \n",
            "X value is -4.980959137404477\n",
            "Iteration 300 \n",
            "X value is -4.981339954656387\n",
            "Iteration 301 \n",
            "X value is -4.981713155563259\n",
            "Iteration 302 \n",
            "X value is -4.982078892451994\n",
            "Iteration 303 \n",
            "X value is -4.9824373146029535\n",
            "Iteration 304 \n",
            "X value is -4.982788568310895\n",
            "Iteration 305 \n",
            "X value is -4.983132796944677\n",
            "Iteration 306 \n",
            "X value is -4.983470141005784\n",
            "Iteration 307 \n",
            "X value is -4.983800738185668\n",
            "Iteration 308 \n",
            "X value is -4.984124723421955\n",
            "Iteration 309 \n",
            "X value is -4.984442228953515\n",
            "Iteration 310 \n",
            "X value is -4.984753384374445\n",
            "Iteration 311 \n",
            "X value is -4.985058316686956\n",
            "Iteration 312 \n",
            "X value is -4.9853571503532175\n",
            "Iteration 313 \n",
            "X value is -4.985650007346153\n",
            "Iteration 314 \n",
            "X value is -4.9859370071992295\n",
            "Iteration 315 \n",
            "X value is -4.986218267055245\n",
            "Iteration 316 \n",
            "X value is -4.98649390171414\n",
            "Iteration 317 \n",
            "X value is -4.986764023679857\n",
            "Iteration 318 \n",
            "X value is -4.98702874320626\n",
            "Iteration 319 \n",
            "X value is -4.987288168342134\n",
            "Iteration 320 \n",
            "X value is -4.987542404975292\n",
            "Iteration 321 \n",
            "X value is -4.987791556875786\n",
            "Iteration 322 \n",
            "X value is -4.98803572573827\n",
            "Iteration 323 \n",
            "X value is -4.988275011223505\n",
            "Iteration 324 \n",
            "X value is -4.988509510999035\n",
            "Iteration 325 \n",
            "X value is -4.988739320779054\n",
            "Iteration 326 \n",
            "X value is -4.988964534363473\n",
            "Iteration 327 \n",
            "X value is -4.989185243676204\n",
            "Iteration 328 \n",
            "X value is -4.98940153880268\n",
            "Iteration 329 \n",
            "X value is -4.989613508026626\n",
            "Iteration 330 \n",
            "X value is -4.989821237866094\n",
            "Iteration 331 \n",
            "X value is -4.990024813108772\n",
            "Iteration 332 \n",
            "X value is -4.9902243168465965\n",
            "Iteration 333 \n",
            "X value is -4.990419830509665\n",
            "Iteration 334 \n",
            "X value is -4.990611433899471\n",
            "Iteration 335 \n",
            "X value is -4.990799205221482\n",
            "Iteration 336 \n",
            "X value is -4.990983221117052\n",
            "Iteration 337 \n",
            "X value is -4.991163556694711\n",
            "Iteration 338 \n",
            "X value is -4.991340285560817\n",
            "Iteration 339 \n",
            "X value is -4.9915134798496\n",
            "Iteration 340 \n",
            "X value is -4.991683210252608\n",
            "Iteration 341 \n",
            "X value is -4.991849546047556\n",
            "Iteration 342 \n",
            "X value is -4.992012555126605\n",
            "Iteration 343 \n",
            "X value is -4.992172304024073\n",
            "Iteration 344 \n",
            "X value is -4.992328857943591\n",
            "Iteration 345 \n",
            "X value is -4.99248228078472\n",
            "Iteration 346 \n",
            "X value is -4.992632635169025\n",
            "Iteration 347 \n",
            "X value is -4.9927799824656445\n",
            "Iteration 348 \n",
            "X value is -4.992924382816332\n",
            "Iteration 349 \n",
            "X value is -4.993065895160005\n",
            "Iteration 350 \n",
            "X value is -4.993204577256805\n",
            "Iteration 351 \n",
            "X value is -4.993340485711669\n",
            "Iteration 352 \n",
            "X value is -4.993473675997436\n",
            "Iteration 353 \n",
            "X value is -4.993604202477487\n",
            "Iteration 354 \n",
            "X value is -4.993732118427937\n",
            "Iteration 355 \n",
            "X value is -4.993857476059379\n",
            "Iteration 356 \n",
            "X value is -4.993980326538191\n",
            "Iteration 357 \n",
            "X value is -4.9941007200074266\n",
            "Iteration 358 \n",
            "X value is -4.994218705607278\n",
            "Iteration 359 \n",
            "X value is -4.994334331495133\n",
            "Iteration 360 \n",
            "X value is -4.994447644865231\n",
            "Iteration 361 \n",
            "X value is -4.994558691967926\n",
            "Iteration 362 \n",
            "X value is -4.994667518128567\n",
            "Iteration 363 \n",
            "X value is -4.994774167765996\n",
            "Iteration 364 \n",
            "X value is -4.9948786844106765\n",
            "Iteration 365 \n",
            "X value is -4.994981110722463\n",
            "Iteration 366 \n",
            "X value is -4.995081488508014\n",
            "Iteration 367 \n",
            "X value is -4.995179858737854\n",
            "Iteration 368 \n",
            "X value is -4.995276261563097\n",
            "Iteration 369 \n",
            "X value is -4.995370736331835\n",
            "Iteration 370 \n",
            "X value is -4.9954633216051985\n",
            "Iteration 371 \n",
            "X value is -4.995554055173095\n",
            "Iteration 372 \n",
            "X value is -4.995642974069633\n",
            "Iteration 373 \n",
            "X value is -4.99573011458824\n",
            "Iteration 374 \n",
            "X value is -4.995815512296476\n",
            "Iteration 375 \n",
            "X value is -4.995899202050547\n",
            "Iteration 376 \n",
            "X value is -4.995981218009535\n",
            "Iteration 377 \n",
            "X value is -4.996061593649345\n",
            "Iteration 378 \n",
            "X value is -4.996140361776358\n",
            "Iteration 379 \n",
            "X value is -4.996217554540831\n",
            "Iteration 380 \n",
            "X value is -4.996293203450014\n",
            "Iteration 381 \n",
            "X value is -4.996367339381013\n",
            "Iteration 382 \n",
            "X value is -4.996439992593393\n",
            "Iteration 383 \n",
            "X value is -4.996511192741525\n",
            "Iteration 384 \n",
            "X value is -4.996580968886694\n",
            "Iteration 385 \n",
            "X value is -4.99664934950896\n",
            "Iteration 386 \n",
            "X value is -4.9967163625187805\n",
            "Iteration 387 \n",
            "X value is -4.996782035268405\n",
            "Iteration 388 \n",
            "X value is -4.996846394563037\n",
            "Iteration 389 \n",
            "X value is -4.996909466671776\n",
            "Iteration 390 \n",
            "X value is -4.996971277338341\n",
            "Iteration 391 \n",
            "X value is -4.997031851791574\n",
            "Iteration 392 \n",
            "X value is -4.997091214755742\n",
            "Iteration 393 \n",
            "X value is -4.997149390460628\n",
            "Iteration 394 \n",
            "X value is -4.997206402651415\n",
            "Iteration 395 \n",
            "X value is -4.997262274598387\n",
            "Iteration 396 \n",
            "X value is -4.997317029106419\n",
            "Iteration 397 \n",
            "X value is -4.997370688524291\n",
            "Iteration 398 \n",
            "X value is -4.997423274753805\n",
            "Iteration 399 \n",
            "X value is -4.997474809258729\n",
            "Iteration 400 \n",
            "X value is -4.997525313073554\n",
            "Iteration 401 \n",
            "X value is -4.997574806812083\n",
            "Iteration 402 \n",
            "X value is -4.997623310675841\n",
            "Iteration 403 \n",
            "X value is -4.997670844462324\n",
            "Iteration 404 \n",
            "X value is -4.997717427573078\n",
            "Iteration 405 \n",
            "X value is -4.997763079021617\n",
            "Iteration 406 \n",
            "X value is -4.997807817441185\n",
            "Iteration 407 \n",
            "X value is -4.997851661092361\n",
            "Iteration 408 \n",
            "X value is -4.997894627870514\n",
            "Iteration 409 \n",
            "X value is -4.997936735313104\n",
            "Iteration 410 \n",
            "X value is -4.9979780006068415\n",
            "Iteration 411 \n",
            "X value is -4.998018440594705\n",
            "Iteration 412 \n",
            "X value is -4.998058071782811\n",
            "Iteration 413 \n",
            "X value is -4.998096910347155\n",
            "Iteration 414 \n",
            "X value is -4.998134972140212\n",
            "Iteration 415 \n",
            "X value is -4.998172272697408\n",
            "Iteration 416 \n",
            "X value is -4.9982088272434595\n",
            "Iteration 417 \n",
            "X value is -4.998244650698591\n",
            "Iteration 418 \n",
            "X value is -4.998279757684619\n",
            "Iteration 419 \n",
            "X value is -4.998314162530927\n",
            "Iteration 420 \n",
            "X value is -4.998347879280309\n",
            "Iteration 421 \n",
            "X value is -4.998380921694703\n",
            "Iteration 422 \n",
            "X value is -4.998413303260809\n",
            "Iteration 423 \n",
            "X value is -4.998445037195593\n",
            "Iteration 424 \n",
            "X value is -4.998476136451681\n",
            "Iteration 425 \n",
            "X value is -4.998506613722648\n",
            "Iteration 426 \n",
            "X value is -4.998536481448195\n",
            "Iteration 427 \n",
            "X value is -4.998565751819231\n",
            "Iteration 428 \n",
            "X value is -4.998594436782846\n",
            "Iteration 429 \n",
            "X value is -4.998622548047189\n",
            "Iteration 430 \n",
            "X value is -4.998650097086245\n",
            "Iteration 431 \n",
            "X value is -4.9986770951445205\n",
            "Iteration 432 \n",
            "X value is -4.99870355324163\n",
            "Iteration 433 \n",
            "X value is -4.998729482176797\n",
            "Iteration 434 \n",
            "X value is -4.998754892533261\n",
            "Iteration 435 \n",
            "X value is -4.998779794682596\n",
            "Iteration 436 \n",
            "X value is -4.998804198788944\n",
            "Iteration 437 \n",
            "X value is -4.998828114813166\n",
            "Iteration 438 \n",
            "X value is -4.998851552516903\n",
            "Iteration 439 \n",
            "X value is -4.998874521466565\n",
            "Iteration 440 \n",
            "X value is -4.998897031037234\n",
            "Iteration 441 \n",
            "X value is -4.998919090416489\n",
            "Iteration 442 \n",
            "X value is -4.99894070860816\n",
            "Iteration 443 \n",
            "X value is -4.998961894435997\n",
            "Iteration 444 \n",
            "X value is -4.998982656547277\n",
            "Iteration 445 \n",
            "X value is -4.999003003416331\n",
            "Iteration 446 \n",
            "X value is -4.999022943348004\n",
            "Iteration 447 \n",
            "X value is -4.999042484481044\n",
            "Iteration 448 \n",
            "X value is -4.999061634791423\n",
            "Iteration 449 \n",
            "X value is -4.999080402095594\n",
            "Iteration 450 \n",
            "X value is -4.999098794053682\n",
            "Iteration 451 \n",
            "X value is -4.999116818172609\n",
            "Iteration 452 \n",
            "X value is -4.999134481809157\n",
            "Iteration 453 \n",
            "X value is -4.999151792172974\n",
            "Iteration 454 \n",
            "X value is -4.999168756329515\n",
            "Iteration 455 \n",
            "X value is -4.999185381202924\n",
            "Iteration 456 \n",
            "X value is -4.999201673578866\n",
            "Iteration 457 \n",
            "X value is -4.999217640107289\n",
            "Iteration 458 \n",
            "X value is -4.999233287305143\n",
            "Iteration 459 \n",
            "X value is -4.9992486215590395\n",
            "Iteration 460 \n",
            "X value is -4.999263649127859\n",
            "Iteration 461 \n",
            "X value is -4.999278376145302\n",
            "Iteration 462 \n",
            "X value is -4.999292808622396\n",
            "Iteration 463 \n",
            "X value is -4.999306952449948\n",
            "Iteration 464 \n",
            "X value is -4.999320813400949\n",
            "Iteration 465 \n",
            "X value is -4.99933439713293\n",
            "Iteration 466 \n",
            "X value is -4.999347709190272\n",
            "Iteration 467 \n",
            "X value is -4.9993607550064665\n",
            "Iteration 468 \n",
            "X value is -4.999373539906337\n",
            "Iteration 469 \n",
            "X value is -4.99938606910821\n",
            "Iteration 470 \n",
            "X value is -4.9993983477260455\n",
            "Iteration 471 \n",
            "X value is -4.999410380771525\n",
            "Iteration 472 \n",
            "X value is -4.999422173156094\n",
            "Iteration 473 \n",
            "X value is -4.9994337296929725\n",
            "Iteration 474 \n",
            "X value is -4.999445055099113\n",
            "Iteration 475 \n",
            "X value is -4.999456153997131\n",
            "Iteration 476 \n",
            "X value is -4.999467030917188\n",
            "Iteration 477 \n",
            "X value is -4.9994776902988445\n",
            "Iteration 478 \n",
            "X value is -4.999488136492867\n",
            "Iteration 479 \n",
            "X value is -4.99949837376301\n",
            "Iteration 480 \n",
            "X value is -4.99950840628775\n",
            "Iteration 481 \n",
            "X value is -4.999518238161995\n",
            "Iteration 482 \n",
            "X value is -4.999527873398756\n",
            "Iteration 483 \n",
            "X value is -4.99953731593078\n",
            "Iteration 484 \n",
            "X value is -4.999546569612165\n",
            "Iteration 485 \n",
            "X value is -4.999555638219921\n",
            "Iteration 486 \n",
            "X value is -4.999564525455523\n",
            "Iteration 487 \n",
            "X value is -4.999573234946412\n",
            "Iteration 488 \n",
            "X value is -4.9995817702474845\n",
            "Iteration 489 \n",
            "X value is -4.999590134842535\n",
            "Iteration 490 \n",
            "X value is -4.999598332145684\n",
            "Iteration 491 \n",
            "X value is -4.99960636550277\n",
            "Iteration 492 \n",
            "X value is -4.999614238192715\n",
            "Iteration 493 \n",
            "X value is -4.999621953428861\n",
            "Iteration 494 \n",
            "X value is -4.999629514360284\n",
            "Iteration 495 \n",
            "X value is -4.999636924073078\n",
            "Iteration 496 \n",
            "X value is -4.999644185591617\n",
            "Iteration 497 \n",
            "X value is -4.999651301879784\n",
            "Iteration 498 \n",
            "X value is -4.999658275842188\n",
            "Iteration 499 \n",
            "X value is -4.999665110325345\n",
            "Iteration 500 \n",
            "X value is -4.999671808118838\n",
            "Iteration 501 \n",
            "X value is -4.9996783719564615\n",
            "Iteration 502 \n",
            "X value is -4.999684804517332\n",
            "Iteration 503 \n",
            "X value is -4.999691108426985\n",
            "Iteration 504 \n",
            "X value is -4.999697286258446\n",
            "Iteration 505 \n",
            "X value is -4.9997033405332765\n",
            "Iteration 506 \n",
            "X value is -4.999709273722611\n",
            "Iteration 507 \n",
            "X value is -4.999715088248159\n",
            "Iteration 508 \n",
            "X value is -4.999720786483196\n",
            "Iteration 509 \n",
            "X value is -4.999726370753532\n",
            "Iteration 510 \n",
            "X value is -4.999731843338461\n",
            "Iteration 511 \n",
            "X value is -4.999737206471692\n",
            "Iteration 512 \n",
            "X value is -4.999742462342258\n",
            "Iteration 513 \n",
            "X value is -4.999747613095413\n",
            "Iteration 514 \n",
            "X value is -4.999752660833504\n",
            "Iteration 515 \n",
            "X value is -4.999757607616834\n",
            "Iteration 516 \n",
            "X value is -4.999762455464498\n",
            "Iteration 517 \n",
            "X value is -4.999767206355208\n",
            "Iteration 518 \n",
            "X value is -4.999771862228104\n",
            "Iteration 519 \n",
            "X value is -4.999776424983542\n",
            "Iteration 520 \n",
            "X value is -4.9997808964838715\n",
            "Iteration 521 \n",
            "X value is -4.999785278554194\n",
            "Iteration 522 \n",
            "X value is -4.9997895729831106\n",
            "Iteration 523 \n",
            "X value is -4.999793781523448\n",
            "Iteration 524 \n",
            "X value is -4.999797905892979\n",
            "Iteration 525 \n",
            "X value is -4.999801947775119\n",
            "Iteration 526 \n",
            "X value is -4.999805908819617\n",
            "Iteration 527 \n",
            "X value is -4.999809790643225\n",
            "Iteration 528 \n",
            "X value is -4.99981359483036\n",
            "Iteration 529 \n",
            "X value is -4.999817322933753\n",
            "Iteration 530 \n",
            "X value is -4.999820976475077\n",
            "Iteration 531 \n",
            "X value is -4.999824556945576\n",
            "Iteration 532 \n",
            "X value is -4.999828065806665\n",
            "Iteration 533 \n",
            "X value is -4.9998315044905315\n",
            "Iteration 534 \n",
            "X value is -4.999834874400721\n",
            "Iteration 535 \n",
            "X value is -4.999838176912706\n",
            "Iteration 536 \n",
            "X value is -4.999841413374452\n",
            "Iteration 537 \n",
            "X value is -4.999844585106963\n",
            "Iteration 538 \n",
            "X value is -4.999847693404824\n",
            "Iteration 539 \n",
            "X value is -4.999850739536727\n",
            "Iteration 540 \n",
            "X value is -4.999853724745993\n",
            "Iteration 541 \n",
            "X value is -4.999856650251073\n",
            "Iteration 542 \n",
            "X value is -4.999859517246051\n",
            "Iteration 543 \n",
            "X value is -4.99986232690113\n",
            "Iteration 544 \n",
            "X value is -4.999865080363108\n",
            "Iteration 545 \n",
            "X value is -4.999867778755846\n",
            "Iteration 546 \n",
            "X value is -4.999870423180729\n",
            "Iteration 547 \n",
            "X value is -4.999873014717115\n",
            "Iteration 548 \n",
            "X value is -4.999875554422772\n",
            "Iteration 549 \n",
            "X value is -4.999878043334316\n",
            "Iteration 550 \n",
            "X value is -4.99988048246763\n",
            "Iteration 551 \n",
            "X value is -4.999882872818278\n",
            "Iteration 552 \n",
            "X value is -4.999885215361912\n",
            "Iteration 553 \n",
            "X value is -4.999887511054674\n",
            "Iteration 554 \n",
            "X value is -4.999889760833581\n",
            "Iteration 555 \n",
            "X value is -4.999891965616909\n",
            "Iteration 556 \n",
            "X value is -4.999894126304571\n",
            "Iteration 557 \n",
            "X value is -4.999896243778479\n",
            "Iteration 558 \n",
            "X value is -4.999898318902909\n",
            "Iteration 559 \n",
            "X value is -4.999900352524851\n",
            "Iteration 560 \n",
            "X value is -4.9999023454743545\n",
            "Iteration 561 \n",
            "X value is -4.999904298564868\n",
            "Iteration 562 \n",
            "X value is -4.9999062125935705\n",
            "Iteration 563 \n",
            "X value is -4.999908088341699\n",
            "Iteration 564 \n",
            "X value is -4.9999099265748645\n",
            "Iteration 565 \n",
            "X value is -4.999911728043367\n",
            "Iteration 566 \n",
            "X value is -4.9999134934825\n",
            "Iteration 567 \n",
            "X value is -4.99991522361285\n",
            "Iteration 568 \n",
            "X value is -4.999916919140593\n",
            "Iteration 569 \n",
            "X value is -4.999918580757781\n",
            "Iteration 570 \n",
            "X value is -4.999920209142625\n",
            "Iteration 571 \n",
            "X value is -4.999921804959773\n",
            "Iteration 572 \n",
            "X value is -4.9999233688605775\n",
            "Iteration 573 \n",
            "X value is -4.999924901483366\n",
            "Iteration 574 \n",
            "X value is -4.999926403453699\n",
            "Iteration 575 \n",
            "X value is -4.999927875384625\n",
            "Iteration 576 \n",
            "X value is -4.999929317876933\n",
            "Iteration 577 \n",
            "X value is -4.999930731519394\n",
            "Iteration 578 \n",
            "X value is -4.999932116889006\n",
            "Iteration 579 \n",
            "X value is -4.999933474551226\n",
            "Iteration 580 \n",
            "X value is -4.999934805060202\n",
            "Iteration 581 \n",
            "X value is -4.999936108958998\n",
            "Iteration 582 \n",
            "X value is -4.999937386779818\n",
            "Iteration 583 \n",
            "X value is -4.999938639044221\n",
            "Iteration 584 \n",
            "X value is -4.999939866263337\n",
            "Iteration 585 \n",
            "X value is -4.99994106893807\n",
            "Iteration 586 \n",
            "X value is -4.999942247559309\n",
            "Iteration 587 \n",
            "X value is -4.999943402608123\n",
            "Iteration 588 \n",
            "X value is -4.9999445345559606\n",
            "Iteration 589 \n",
            "X value is -4.999945643864842\n",
            "Iteration 590 \n",
            "X value is -4.999946730987545\n",
            "Iteration 591 \n",
            "X value is -4.999947796367794\n",
            "Iteration 592 \n",
            "X value is -4.999948840440438\n",
            "Iteration 593 \n",
            "X value is -4.999949863631629\n",
            "Iteration 594 \n",
            "X value is -4.999950866358997\n",
            "Iteration 595 \n",
            "X value is -4.9999518490318176\n",
            "The local minimum occurs at -4.9999518490318176\n"
          ],
          "name": "stdout"
        }
      ]
    },
    {
      "cell_type": "markdown",
      "metadata": {
        "id": "-p719MKdcv8A"
      },
      "source": [
        "# 6. Implementation of logical gates with single layer perceptron."
      ]
    },
    {
      "cell_type": "code",
      "metadata": {
        "colab": {
          "base_uri": "https://localhost:8080/",
          "height": 0
        },
        "id": "HpQwcfvznb0Z",
        "outputId": "06d712c1-4a77-4793-bae9-8266e0e139b4"
      },
      "source": [
        "\n",
        "import numpy as np\n",
        "\n",
        "\n",
        "def perceptron(weights, inputs, bias):\n",
        "\n",
        "    model = np.add(np.dot(inputs, weights), bias)\n",
        "    logit = activation_function(model, type=\"sigmoid\")\n",
        "    return np.round(logit)\n",
        "\n",
        "\n",
        "def activation_function(model, type=\"sigmoid\"):\n",
        "\n",
        "    return {\n",
        "        \"sigmoid\": 1 / (1 + np.exp(-model))\n",
        "    }[type]\n",
        "\n",
        "\n",
        "def compute(data, logic_gate, weights, bias):\n",
        "    weights = np.array(weights)\n",
        "    output = np.array([ perceptron(weights, datum, bias) for datum in data ])\n",
        "    return output\n",
        "\n",
        "\n",
        "# This function is taken from https://github.com/fjcamillo/Neural-Representation-of-Logic-Functions/blob/master/Logic.py\n",
        "# def print_template_3(dataset, name, data):\n",
        "    # act = name[6:]\n",
        "    #print(\"Logic Function: {}\".format(name.upper()))\n",
        "    #print(\"X0\\tX1\\tX2\\tY\")\n",
        "    #toPrint = [\"{1}\\t{2}\\t{3}\\t{0}\".format(output, *datas) for datas, output in zip(dataset, data)]\n",
        "    #for i in toPrint:\n",
        "    #    print(i)\n",
        "\n",
        "def print_template_2(dataset, name, data):\n",
        "    # act = name[6:]\n",
        "    print(\"Logic Function: {}\".format(name.upper()))\n",
        "    print(\"X0\\tX1\\tX2\\tY\")\n",
        "    toPrint = [\"{1}\\t{2}\\t{0}\".format(output, *datas) for datas, output in zip(dataset, data)]\n",
        "    for i in toPrint:\n",
        "        print(i)\n",
        "\n",
        "\n",
        "def main():\n",
        "   # dataset_3= np.array([\n",
        "    #  [0, 0, 0],\n",
        "    # [0, 0, 1],\n",
        "    # [0, 1, 0],\n",
        "    # [0, 1, 1],\n",
        "    #  [1, 0, 0],\n",
        "    #  [1, 0, 1],\n",
        "    #  [1, 1, 0],\n",
        "    #  [1, 1, 1]\n",
        "    #])\n",
        "    #gates = {\n",
        "    #    \"and\": compute(dataset_3, \"and\", [1, 1, 1], -2),\n",
        "    #    \"or\": compute(dataset_3, \"or\", [1, 1, 1], -0.9),\n",
        "    #    \"not\": compute(np.array([ [0], [1] ]), \"not\", [-1], 1),\n",
        "    #    \"nand\": compute(dataset_3, \"nand\", [-1, -1, -1], 3),\n",
        "    #    \"nor\": compute(dataset_3, \"nor\", [-1, -1, -1], 1),\n",
        "        # _xor = compute(dataset, \"and\", [1], dataset),\n",
        "        # _xnor = compute(dataset, \"xnor\", [], dataset)\n",
        "    #}\n",
        "    dataset_2 = np.array([\n",
        "          [0, 0],\n",
        "          [0, 1],\n",
        "          [1, 0],\n",
        "          [1, 1]\n",
        "          ])\n",
        "    gates = {\n",
        "        \"and\": compute(dataset_2, \"and\", [1, 1], -1),\n",
        "        \"or\": compute(dataset_2, \"or\", [1, 1], -0.9),\n",
        "        \"not\": compute(np.array([ [0], [1] ]), \"not\", [-1], 1),\n",
        "        \"nand\": compute(dataset_2, \"nand\", [-1, -1], 2),\n",
        "        \"nor\": compute(dataset_2, \"nor\", [-1, -1], 1),\n",
        "        # _xor = compute(dataset, \"and\", [1], dataset),\n",
        "        # _xnor = compute(dataset, \"xnor\", [], dataset)\n",
        "    }\n",
        "    for gate in gates:\n",
        "        print_template_2(dataset_2, gate, gates[gate])\n",
        "    #for gate in gates:\n",
        "    #    print_template_3(dataset_3, gate, gates[gate])\n",
        "   \n",
        "\n",
        "if __name__ == '__main__':\n",
        "    main()\n"
      ],
      "execution_count": 53,
      "outputs": [
        {
          "output_type": "stream",
          "text": [
            "Logic Function: AND\n",
            "X0\tX1\tX2\tY\n",
            "0\t0\t0.0\n",
            "0\t1\t0.0\n",
            "1\t0\t0.0\n",
            "1\t1\t1.0\n",
            "Logic Function: OR\n",
            "X0\tX1\tX2\tY\n",
            "0\t0\t0.0\n",
            "0\t1\t1.0\n",
            "1\t0\t1.0\n",
            "1\t1\t1.0\n",
            "Logic Function: NOT\n",
            "X0\tX1\tX2\tY\n",
            "0\t0\t1.0\n",
            "0\t1\t0.0\n",
            "Logic Function: NAND\n",
            "X0\tX1\tX2\tY\n",
            "0\t0\t1.0\n",
            "0\t1\t1.0\n",
            "1\t0\t1.0\n",
            "1\t1\t0.0\n",
            "Logic Function: NOR\n",
            "X0\tX1\tX2\tY\n",
            "0\t0\t1.0\n",
            "0\t1\t0.0\n",
            "1\t0\t0.0\n",
            "1\t1\t0.0\n"
          ],
          "name": "stdout"
        }
      ]
    },
    {
      "cell_type": "markdown",
      "metadata": {
        "id": "cY070zytczd6"
      },
      "source": [
        "# 7. Implementation of  Artificial Neural Network (ANN)"
      ]
    },
    {
      "cell_type": "markdown",
      "metadata": {
        "id": "fGcNcubtyxec"
      },
      "source": [
        "#### Part 1 :Data Pre-processing"
      ]
    },
    {
      "cell_type": "markdown",
      "metadata": {
        "id": "QvL3Zco_y2oy"
      },
      "source": [
        "1.1 Import the libraries\n",
        "* We import three Libraries in Data Preprocessing part.\n",
        "* Numpy library is used for multidimensional array\n",
        "* Pandas library is used to import the dataset\n",
        "* Matplotlib library is used for plotting the graph. "
      ]
    },
    {
      "cell_type": "code",
      "metadata": {
        "id": "6FgQLYq9ui74"
      },
      "source": [
        "import numpy as np\n",
        "import pandas as pd\n",
        "import matplotlib.pyplot as plt"
      ],
      "execution_count": 54,
      "outputs": []
    },
    {
      "cell_type": "markdown",
      "metadata": {
        "id": "GeCOV2SezYB7"
      },
      "source": [
        "1.2 Import the dataset\n",
        "* In this step, we import the dataset to do that we use the pandas library.\n",
        "* After importing our dataset we define our dependent and independent variable.\n",
        "* Our independent variables are 1 to 12 attributes as you can see in the sample dataset which we call ‘X’ and dependent is our last attribute which we call ‘y’ here."
      ]
    },
    {
      "cell_type": "code",
      "metadata": {
        "id": "zxVtvkf-zljO"
      },
      "source": [
        "dataset = pd.read_csv(\"ANN_dataset.csv\")\n",
        "x = dataset.iloc[:, 3:13].values\n",
        "y = dataset.iloc[:, -1].values"
      ],
      "execution_count": 55,
      "outputs": []
    },
    {
      "cell_type": "markdown",
      "metadata": {
        "id": "s5Z6vnAUz6TE"
      },
      "source": [
        "1.3 Encoding the Categorical data\n",
        "* In this step, we encode our categorical data.\n",
        "* If we see our dataset then Geography & Gender attribute is in Text and we Encode these two attributes in this part use the LabelEncoder and OneHOTEncoder from the Sklearn.processing library."
      ]
    },
    {
      "cell_type": "code",
      "metadata": {
        "id": "XZKJ1vaA0EPf"
      },
      "source": [
        "from sklearn.preprocessing import LabelEncoder, OneHotEncoder\n",
        "from sklearn.compose import ColumnTransformer\n",
        "\n",
        "# Country column\n",
        "ct = ColumnTransformer([(\"Country\", OneHotEncoder(), [1])], remainder = 'passthrough')\n",
        "x = ct.fit_transform(x)\n",
        "\n",
        "# Male/Female\n",
        "labelencoder_x = LabelEncoder()\n",
        "x[:, 2] = labelencoder_x.fit_transform(x[:, 2])\n",
        "\n",
        "#from sklearn.preprocessing import LabelEncoder, OneHotEncoder\n",
        "#from sklearn.compose import ColumnTransformer\n",
        "#labelencoder_x_1 = LabelEncoder()\n",
        "#x[:, 1] = labelencoder_x_1.fit_transform(x[:, 1])\n",
        "\n",
        "#labelencoder_x_2 = LabelEncoder()\n",
        "#x[:, 2] = labelencoder_x_2.fit_transform(x[:, 2])\n",
        "#columnTransformer = ColumnTransformer([('encoder', OneHotEncoder(), [0])],remainder='passthrough')    \n",
        "#x = np.array(columnTransformer.fit_transform(x),dtype=np.str)\n",
        "#onehotencoder = OneHotEncoder(categorical_features = [1])\n",
        "#x = onehotencoder.fit_transform(x).toarray()\n",
        "#x = x[:, 1:]"
      ],
      "execution_count": 56,
      "outputs": []
    },
    {
      "cell_type": "markdown",
      "metadata": {
        "id": "4Z9aRXXo12vQ"
      },
      "source": [
        "1.4 Split the dataset for test and train\n",
        "* In this step, we split our dataset into a test set and train set and an 80% dataset split for training and the remaining 20% for tests.\n",
        "* Our dataset contains 10000 instances so 8000 data we train and 2000 for the test.\n"
      ]
    },
    {
      "cell_type": "code",
      "metadata": {
        "id": "I_DMjOgp1zgK"
      },
      "source": [
        "from sklearn.model_selection import train_test_split\n",
        "x_train, x_test, y_train, y_test = train_test_split(x,y, test_size = 0.2, random_state = 0)"
      ],
      "execution_count": 57,
      "outputs": []
    },
    {
      "cell_type": "markdown",
      "metadata": {
        "id": "66te9JAP2LBr"
      },
      "source": [
        "1.5 Feature Scaling\n",
        "* Feature Scaling is the most important part of data preprocessing. * If we see our dataset then some attribute contains information in Numeric value some value very high and some are very low if we see the age and estimated salary.\n",
        "* This will cause some issues in our machinery model to solve that problem we set all values on the same scale there are two methods to solve that problem first one is Normalize and Second is Standard Scaler.\n",
        "![image.png](data:image/png;base64,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)"
      ]
    },
    {
      "cell_type": "code",
      "metadata": {
        "id": "86KzzvYf2Z4K"
      },
      "source": [
        "from sklearn.preprocessing import StandardScaler\n",
        "sc = StandardScaler()\n",
        "x_train = sc.fit_transform(x_train)\n",
        "x_test = sc.transform(x_test)"
      ],
      "execution_count": 58,
      "outputs": []
    },
    {
      "cell_type": "markdown",
      "metadata": {
        "id": "Ulv3SKF_3M2Z"
      },
      "source": [
        "#### Part 2: Building our Model\n"
      ]
    },
    {
      "cell_type": "markdown",
      "metadata": {
        "id": "4DtfgvCb3PEc"
      },
      "source": [
        "2.1 Import the Libraries\n",
        "* In this step, we import the Library which will build our ANN model.\n",
        "* We import Keras Library which will build a deep neural network based on Tensorflow because we use Tensorflow backhand.\n",
        "* Here we import the two modules from Keras.\n",
        "* The first one is Sequential used for initializing our ANN model and the second is Dense used for adding different layers of ANN."
      ]
    },
    {
      "cell_type": "code",
      "metadata": {
        "id": "qt9YUCLM3a9u"
      },
      "source": [
        "import keras\n",
        "from keras.models import Sequential\n",
        "from keras.layers import Dense"
      ],
      "execution_count": 59,
      "outputs": []
    },
    {
      "cell_type": "markdown",
      "metadata": {
        "id": "zFapuWfY3nBM"
      },
      "source": [
        "2.2 Initialize our ANN model\n",
        "* In this step, we initialize our Artificial Neural Network model to do that we use sequential modules."
      ]
    },
    {
      "cell_type": "code",
      "metadata": {
        "colab": {
          "base_uri": "https://localhost:8080/",
          "height": 0
        },
        "id": "5IbqwliH8O8a",
        "outputId": "5fb11c42-bb48-4c2c-9ce6-102e3e101edf"
      },
      "source": [
        "classifier = Sequential()\n",
        "\n",
        "# Adding input layer and first hidden layer with dropout\n",
        "classifier.add(Dense(6, kernel_initializer = 'he_uniform', activation = 'relu', input_dim = 11))\n",
        "\n",
        "# Adding the second hidden layer\n",
        "classifier.add(Dense(6, kernel_initializer = 'he_uniform', activation = 'relu'))\n",
        "\n",
        "# Adding the output layer\n",
        "classifier.add(Dense(1, kernel_initializer = 'he_uniform', activation = 'sigmoid'))\n",
        "\n",
        "# compiling the ANN\n",
        "classifier.compile(optimizer = 'adam', loss = 'binary_crossentropy', metrics = ['accuracy'])\n",
        "\n",
        "# Fitting the ANN to the training set\n",
        "classifier.fit(x_train, y_train, batch_size = 10, epochs = 100)\n",
        "\n",
        "\n",
        "\n",
        "## PART 3 - Making the prediction and evaluating the model   \n",
        "\n",
        "\n",
        "\n",
        "# Predicting the Test set results\n",
        "y_pred = classifier.predict(x_test)\n",
        "y_pred = (y_pred > 0.5)\n",
        "\n",
        "# Making the Confusion Matrix\n",
        "from sklearn.metrics import confusion_matrix\n",
        "cm = confusion_matrix(y_test, y_pred)\n",
        "print(\"Confusion Matrix\" ,cm)\n",
        "\n",
        "#accuray score\n",
        "from sklearn.metrics import accuracy_score\n",
        "accuracy_score = accuracy_score(y_test, y_pred)\n",
        "print(\"Accuracy Score\", accuracy_score)"
      ],
      "execution_count": 60,
      "outputs": [
        {
          "output_type": "stream",
          "text": [
            "Epoch 1/100\n",
            "1/1 [==============================] - 1s 589ms/step - loss: 1.1053 - accuracy: 0.2500\n",
            "Epoch 2/100\n",
            "1/1 [==============================] - 0s 5ms/step - loss: 1.0940 - accuracy: 0.2500\n",
            "Epoch 3/100\n",
            "1/1 [==============================] - 0s 9ms/step - loss: 1.0828 - accuracy: 0.2500\n",
            "Epoch 4/100\n",
            "1/1 [==============================] - 0s 6ms/step - loss: 1.0717 - accuracy: 0.2500\n",
            "Epoch 5/100\n",
            "1/1 [==============================] - 0s 11ms/step - loss: 1.0607 - accuracy: 0.2500\n",
            "Epoch 6/100\n",
            "1/1 [==============================] - 0s 7ms/step - loss: 1.0498 - accuracy: 0.2500\n",
            "Epoch 7/100\n",
            "1/1 [==============================] - 0s 11ms/step - loss: 1.0390 - accuracy: 0.2500\n",
            "Epoch 8/100\n",
            "1/1 [==============================] - 0s 8ms/step - loss: 1.0283 - accuracy: 0.2500\n",
            "Epoch 9/100\n",
            "1/1 [==============================] - 0s 6ms/step - loss: 1.0185 - accuracy: 0.2500\n",
            "Epoch 10/100\n",
            "1/1 [==============================] - 0s 5ms/step - loss: 1.0087 - accuracy: 0.2500\n",
            "Epoch 11/100\n",
            "1/1 [==============================] - 0s 7ms/step - loss: 0.9993 - accuracy: 0.2500\n",
            "Epoch 12/100\n",
            "1/1 [==============================] - 0s 4ms/step - loss: 0.9901 - accuracy: 0.2500\n",
            "Epoch 13/100\n",
            "1/1 [==============================] - 0s 7ms/step - loss: 0.9811 - accuracy: 0.2500\n",
            "Epoch 14/100\n",
            "1/1 [==============================] - 0s 4ms/step - loss: 0.9721 - accuracy: 0.2500\n",
            "Epoch 15/100\n",
            "1/1 [==============================] - 0s 9ms/step - loss: 0.9633 - accuracy: 0.2500\n",
            "Epoch 16/100\n",
            "1/1 [==============================] - 0s 9ms/step - loss: 0.9546 - accuracy: 0.2500\n",
            "Epoch 17/100\n",
            "1/1 [==============================] - 0s 10ms/step - loss: 0.9459 - accuracy: 0.2500\n",
            "Epoch 18/100\n",
            "1/1 [==============================] - 0s 11ms/step - loss: 0.9374 - accuracy: 0.2500\n",
            "Epoch 19/100\n",
            "1/1 [==============================] - 0s 7ms/step - loss: 0.9289 - accuracy: 0.2500\n",
            "Epoch 20/100\n",
            "1/1 [==============================] - 0s 8ms/step - loss: 0.9205 - accuracy: 0.2500\n",
            "Epoch 21/100\n",
            "1/1 [==============================] - 0s 7ms/step - loss: 0.9122 - accuracy: 0.2500\n",
            "Epoch 22/100\n",
            "1/1 [==============================] - 0s 8ms/step - loss: 0.9040 - accuracy: 0.2500\n",
            "Epoch 23/100\n",
            "1/1 [==============================] - 0s 6ms/step - loss: 0.8958 - accuracy: 0.2500\n",
            "Epoch 24/100\n",
            "1/1 [==============================] - 0s 6ms/step - loss: 0.8877 - accuracy: 0.2500\n",
            "Epoch 25/100\n",
            "1/1 [==============================] - 0s 5ms/step - loss: 0.8798 - accuracy: 0.2500\n",
            "Epoch 26/100\n",
            "1/1 [==============================] - 0s 7ms/step - loss: 0.8719 - accuracy: 0.2500\n",
            "Epoch 27/100\n",
            "1/1 [==============================] - 0s 8ms/step - loss: 0.8641 - accuracy: 0.2500\n",
            "Epoch 28/100\n",
            "1/1 [==============================] - 0s 7ms/step - loss: 0.8563 - accuracy: 0.2500\n",
            "Epoch 29/100\n",
            "1/1 [==============================] - 0s 9ms/step - loss: 0.8487 - accuracy: 0.2500\n",
            "Epoch 30/100\n",
            "1/1 [==============================] - 0s 9ms/step - loss: 0.8413 - accuracy: 0.3750\n",
            "Epoch 31/100\n",
            "1/1 [==============================] - 0s 5ms/step - loss: 0.8339 - accuracy: 0.3750\n",
            "Epoch 32/100\n",
            "1/1 [==============================] - 0s 8ms/step - loss: 0.8265 - accuracy: 0.3750\n",
            "Epoch 33/100\n",
            "1/1 [==============================] - 0s 9ms/step - loss: 0.8193 - accuracy: 0.3750\n",
            "Epoch 34/100\n",
            "1/1 [==============================] - 0s 6ms/step - loss: 0.8121 - accuracy: 0.3750\n",
            "Epoch 35/100\n",
            "1/1 [==============================] - 0s 8ms/step - loss: 0.8050 - accuracy: 0.3750\n",
            "Epoch 36/100\n",
            "1/1 [==============================] - 0s 9ms/step - loss: 0.7980 - accuracy: 0.3750\n",
            "Epoch 37/100\n",
            "1/1 [==============================] - 0s 10ms/step - loss: 0.7912 - accuracy: 0.3750\n",
            "Epoch 38/100\n",
            "1/1 [==============================] - 0s 10ms/step - loss: 0.7843 - accuracy: 0.3750\n",
            "Epoch 39/100\n",
            "1/1 [==============================] - 0s 5ms/step - loss: 0.7776 - accuracy: 0.3750\n",
            "Epoch 40/100\n",
            "1/1 [==============================] - 0s 5ms/step - loss: 0.7710 - accuracy: 0.3750\n",
            "Epoch 41/100\n",
            "1/1 [==============================] - 0s 5ms/step - loss: 0.7645 - accuracy: 0.3750\n",
            "Epoch 42/100\n",
            "1/1 [==============================] - 0s 19ms/step - loss: 0.7580 - accuracy: 0.3750\n",
            "Epoch 43/100\n",
            "1/1 [==============================] - 0s 5ms/step - loss: 0.7516 - accuracy: 0.3750\n",
            "Epoch 44/100\n",
            "1/1 [==============================] - 0s 5ms/step - loss: 0.7452 - accuracy: 0.3750\n",
            "Epoch 45/100\n",
            "1/1 [==============================] - 0s 6ms/step - loss: 0.7390 - accuracy: 0.3750\n",
            "Epoch 46/100\n",
            "1/1 [==============================] - 0s 11ms/step - loss: 0.7330 - accuracy: 0.3750\n",
            "Epoch 47/100\n",
            "1/1 [==============================] - 0s 19ms/step - loss: 0.7279 - accuracy: 0.5000\n",
            "Epoch 48/100\n",
            "1/1 [==============================] - 0s 5ms/step - loss: 0.7228 - accuracy: 0.5000\n",
            "Epoch 49/100\n",
            "1/1 [==============================] - 0s 20ms/step - loss: 0.7178 - accuracy: 0.5000\n",
            "Epoch 50/100\n",
            "1/1 [==============================] - 0s 9ms/step - loss: 0.7129 - accuracy: 0.5000\n",
            "Epoch 51/100\n",
            "1/1 [==============================] - 0s 5ms/step - loss: 0.7083 - accuracy: 0.5000\n",
            "Epoch 52/100\n",
            "1/1 [==============================] - 0s 7ms/step - loss: 0.7038 - accuracy: 0.6250\n",
            "Epoch 53/100\n",
            "1/1 [==============================] - 0s 5ms/step - loss: 0.6995 - accuracy: 0.6250\n",
            "Epoch 54/100\n",
            "1/1 [==============================] - 0s 5ms/step - loss: 0.6951 - accuracy: 0.6250\n",
            "Epoch 55/100\n",
            "1/1 [==============================] - 0s 7ms/step - loss: 0.6906 - accuracy: 0.6250\n",
            "Epoch 56/100\n",
            "1/1 [==============================] - 0s 4ms/step - loss: 0.6861 - accuracy: 0.6250\n",
            "Epoch 57/100\n",
            "1/1 [==============================] - 0s 6ms/step - loss: 0.6816 - accuracy: 0.6250\n",
            "Epoch 58/100\n",
            "1/1 [==============================] - 0s 4ms/step - loss: 0.6772 - accuracy: 0.6250\n",
            "Epoch 59/100\n",
            "1/1 [==============================] - 0s 5ms/step - loss: 0.6728 - accuracy: 0.6250\n",
            "Epoch 60/100\n",
            "1/1 [==============================] - 0s 4ms/step - loss: 0.6684 - accuracy: 0.6250\n",
            "Epoch 61/100\n",
            "1/1 [==============================] - 0s 5ms/step - loss: 0.6646 - accuracy: 0.6250\n",
            "Epoch 62/100\n",
            "1/1 [==============================] - 0s 4ms/step - loss: 0.6608 - accuracy: 0.6250\n",
            "Epoch 63/100\n",
            "1/1 [==============================] - 0s 8ms/step - loss: 0.6571 - accuracy: 0.6250\n",
            "Epoch 64/100\n",
            "1/1 [==============================] - 0s 6ms/step - loss: 0.6537 - accuracy: 0.6250\n",
            "Epoch 65/100\n",
            "1/1 [==============================] - 0s 5ms/step - loss: 0.6503 - accuracy: 0.6250\n",
            "Epoch 66/100\n",
            "1/1 [==============================] - 0s 5ms/step - loss: 0.6469 - accuracy: 0.6250\n",
            "Epoch 67/100\n",
            "1/1 [==============================] - 0s 4ms/step - loss: 0.6438 - accuracy: 0.6250\n",
            "Epoch 68/100\n",
            "1/1 [==============================] - 0s 8ms/step - loss: 0.6407 - accuracy: 0.6250\n",
            "Epoch 69/100\n",
            "1/1 [==============================] - 0s 5ms/step - loss: 0.6375 - accuracy: 0.6250\n",
            "Epoch 70/100\n",
            "1/1 [==============================] - 0s 4ms/step - loss: 0.6343 - accuracy: 0.6250\n",
            "Epoch 71/100\n",
            "1/1 [==============================] - 0s 4ms/step - loss: 0.6311 - accuracy: 0.6250\n",
            "Epoch 72/100\n",
            "1/1 [==============================] - 0s 22ms/step - loss: 0.6279 - accuracy: 0.6250\n",
            "Epoch 73/100\n",
            "1/1 [==============================] - 0s 5ms/step - loss: 0.6247 - accuracy: 0.6250\n",
            "Epoch 74/100\n",
            "1/1 [==============================] - 0s 6ms/step - loss: 0.6216 - accuracy: 0.6250\n",
            "Epoch 75/100\n",
            "1/1 [==============================] - 0s 8ms/step - loss: 0.6187 - accuracy: 0.6250\n",
            "Epoch 76/100\n",
            "1/1 [==============================] - 0s 8ms/step - loss: 0.6159 - accuracy: 0.6250\n",
            "Epoch 77/100\n",
            "1/1 [==============================] - 0s 7ms/step - loss: 0.6131 - accuracy: 0.6250\n",
            "Epoch 78/100\n",
            "1/1 [==============================] - 0s 8ms/step - loss: 0.6102 - accuracy: 0.6250\n",
            "Epoch 79/100\n",
            "1/1 [==============================] - 0s 7ms/step - loss: 0.6074 - accuracy: 0.6250\n",
            "Epoch 80/100\n",
            "1/1 [==============================] - 0s 8ms/step - loss: 0.6046 - accuracy: 0.7500\n",
            "Epoch 81/100\n",
            "1/1 [==============================] - 0s 7ms/step - loss: 0.6017 - accuracy: 0.7500\n",
            "Epoch 82/100\n",
            "1/1 [==============================] - 0s 8ms/step - loss: 0.5989 - accuracy: 0.8750\n",
            "Epoch 83/100\n",
            "1/1 [==============================] - 0s 7ms/step - loss: 0.5962 - accuracy: 0.8750\n",
            "Epoch 84/100\n",
            "1/1 [==============================] - 0s 7ms/step - loss: 0.5934 - accuracy: 0.8750\n",
            "Epoch 85/100\n",
            "1/1 [==============================] - 0s 8ms/step - loss: 0.5907 - accuracy: 0.8750\n",
            "Epoch 86/100\n",
            "1/1 [==============================] - 0s 6ms/step - loss: 0.5879 - accuracy: 0.8750\n",
            "Epoch 87/100\n",
            "1/1 [==============================] - 0s 7ms/step - loss: 0.5853 - accuracy: 0.8750\n",
            "Epoch 88/100\n",
            "1/1 [==============================] - 0s 6ms/step - loss: 0.5829 - accuracy: 0.8750\n",
            "Epoch 89/100\n",
            "1/1 [==============================] - 0s 7ms/step - loss: 0.5805 - accuracy: 0.8750\n",
            "Epoch 90/100\n",
            "1/1 [==============================] - 0s 9ms/step - loss: 0.5779 - accuracy: 0.8750\n",
            "Epoch 91/100\n",
            "1/1 [==============================] - 0s 18ms/step - loss: 0.5751 - accuracy: 0.8750\n",
            "Epoch 92/100\n",
            "1/1 [==============================] - 0s 12ms/step - loss: 0.5721 - accuracy: 0.8750\n",
            "Epoch 93/100\n",
            "1/1 [==============================] - 0s 7ms/step - loss: 0.5690 - accuracy: 0.8750\n",
            "Epoch 94/100\n",
            "1/1 [==============================] - 0s 8ms/step - loss: 0.5659 - accuracy: 0.8750\n",
            "Epoch 95/100\n",
            "1/1 [==============================] - 0s 6ms/step - loss: 0.5629 - accuracy: 0.8750\n",
            "Epoch 96/100\n",
            "1/1 [==============================] - 0s 15ms/step - loss: 0.5599 - accuracy: 0.8750\n",
            "Epoch 97/100\n",
            "1/1 [==============================] - 0s 9ms/step - loss: 0.5569 - accuracy: 0.8750\n",
            "Epoch 98/100\n",
            "1/1 [==============================] - 0s 10ms/step - loss: 0.5538 - accuracy: 0.8750\n",
            "Epoch 99/100\n",
            "1/1 [==============================] - 0s 6ms/step - loss: 0.5508 - accuracy: 0.8750\n",
            "Epoch 100/100\n",
            "1/1 [==============================] - 0s 8ms/step - loss: 0.5478 - accuracy: 0.8750\n",
            "Confusion Matrix [[0 2]\n",
            " [0 1]]\n",
            "Accuracy Score 0.3333333333333333\n"
          ],
          "name": "stdout"
        }
      ]
    },
    {
      "cell_type": "markdown",
      "metadata": {
        "id": "vZtzUnsNc2dm"
      },
      "source": [
        "# 8. Implementation of Convolutional Neural Network\n"
      ]
    },
    {
      "cell_type": "code",
      "metadata": {
        "id": "buYt5WC9UhvJ"
      },
      "source": [
        "import tensorflow as tf\n",
        "\n",
        "from tensorflow.keras import datasets, layers, models\n",
        "import matplotlib.pyplot as plt"
      ],
      "execution_count": 61,
      "outputs": []
    },
    {
      "cell_type": "code",
      "metadata": {
        "id": "g9VsWbzVUi2w"
      },
      "source": [
        "(train_images, train_labels), (test_images, test_labels) = datasets.cifar10.load_data()\n",
        "\n",
        "# Normalize pixel values to be between 0 and 1\n",
        "train_images, test_images = train_images / 255.0, test_images / 255.0"
      ],
      "execution_count": 62,
      "outputs": []
    },
    {
      "cell_type": "code",
      "metadata": {
        "colab": {
          "base_uri": "https://localhost:8080/",
          "height": 589
        },
        "id": "JhB2_vZVU4NL",
        "outputId": "e43b85bb-c2d9-40dc-a990-0ad575fa4105"
      },
      "source": [
        "class_names = ['airplane', 'automobile', 'bird', 'cat', 'deer',\n",
        "               'dog', 'frog', 'horse', 'ship', 'truck']\n",
        "\n",
        "plt.figure(figsize=(10,10))\n",
        "for i in range(25):\n",
        "    plt.subplot(5,5,i+1)\n",
        "    plt.xticks([])\n",
        "    plt.yticks([])\n",
        "    plt.grid(False)\n",
        "    plt.imshow(train_images[i], cmap=plt.cm.binary)\n",
        "    # The CIFAR labels happen to be arrays, \n",
        "    # which is why you need the extra index\n",
        "    plt.xlabel(class_names[train_labels[i][0]])\n",
        "plt.show()"
      ],
      "execution_count": 63,
      "outputs": [
        {
          "output_type": "display_data",
          "data": {
            "image/png": "[encoded data removed]",
            "text/plain": [
              "<Figure size 720x720 with 25 Axes>"
            ]
          },
          "metadata": {
            "tags": []
          }
        }
      ]
    },
    {
      "cell_type": "code",
      "metadata": {
        "id": "xeQGope-U7Qm"
      },
      "source": [
        "model = models.Sequential()\n",
        "model.add(layers.Conv2D(32, (3, 3), activation='relu', input_shape=(32, 32, 3)))\n",
        "model.add(layers.MaxPooling2D((2, 2)))\n",
        "model.add(layers.Conv2D(64, (3, 3), activation='relu'))\n",
        "model.add(layers.MaxPooling2D((2, 2)))\n",
        "model.add(layers.Conv2D(64, (3, 3), activation='relu'))"
      ],
      "execution_count": 64,
      "outputs": []
    },
    {
      "cell_type": "code",
      "metadata": {
        "colab": {
          "base_uri": "https://localhost:8080/",
          "height": 0
        },
        "id": "ThJ6j9eLU9DP",
        "outputId": "94a5e3b5-8d37-41f4-9311-c02d1261c925"
      },
      "source": [
        "model.summary()"
      ],
      "execution_count": 65,
      "outputs": [
        {
          "output_type": "stream",
          "text": [
            "Model: \"sequential_1\"\n",
            "_________________________________________________________________\n",
            "Layer (type)                 Output Shape              Param #   \n",
            "=================================================================\n",
            "conv2d (Conv2D)              (None, 30, 30, 32)        896       \n",
            "_________________________________________________________________\n",
            "max_pooling2d (MaxPooling2D) (None, 15, 15, 32)        0         \n",
            "_________________________________________________________________\n",
            "conv2d_1 (Conv2D)            (None, 13, 13, 64)        18496     \n",
            "_________________________________________________________________\n",
            "max_pooling2d_1 (MaxPooling2 (None, 6, 6, 64)          0         \n",
            "_________________________________________________________________\n",
            "conv2d_2 (Conv2D)            (None, 4, 4, 64)          36928     \n",
            "=================================================================\n",
            "Total params: 56,320\n",
            "Trainable params: 56,320\n",
            "Non-trainable params: 0\n",
            "_________________________________________________________________\n"
          ],
          "name": "stdout"
        }
      ]
    },
    {
      "cell_type": "code",
      "metadata": {
        "id": "KamOL2TyU-e4"
      },
      "source": [
        "model.add(layers.Flatten())\n",
        "model.add(layers.Dense(64, activation='relu'))\n",
        "model.add(layers.Dense(10))"
      ],
      "execution_count": 66,
      "outputs": []
    },
    {
      "cell_type": "code",
      "metadata": {
        "colab": {
          "base_uri": "https://localhost:8080/",
          "height": 0
        },
        "id": "nNOrvlxKVAoo",
        "outputId": "6be80c2e-f57c-424c-cc8f-00e5b577f0fd"
      },
      "source": [
        "model.summary()"
      ],
      "execution_count": 67,
      "outputs": [
        {
          "output_type": "stream",
          "text": [
            "Model: \"sequential_1\"\n",
            "_________________________________________________________________\n",
            "Layer (type)                 Output Shape              Param #   \n",
            "=================================================================\n",
            "conv2d (Conv2D)              (None, 30, 30, 32)        896       \n",
            "_________________________________________________________________\n",
            "max_pooling2d (MaxPooling2D) (None, 15, 15, 32)        0         \n",
            "_________________________________________________________________\n",
            "conv2d_1 (Conv2D)            (None, 13, 13, 64)        18496     \n",
            "_________________________________________________________________\n",
            "max_pooling2d_1 (MaxPooling2 (None, 6, 6, 64)          0         \n",
            "_________________________________________________________________\n",
            "conv2d_2 (Conv2D)            (None, 4, 4, 64)          36928     \n",
            "_________________________________________________________________\n",
            "flatten (Flatten)            (None, 1024)              0         \n",
            "_________________________________________________________________\n",
            "dense_3 (Dense)              (None, 64)                65600     \n",
            "_________________________________________________________________\n",
            "dense_4 (Dense)              (None, 10)                650       \n",
            "=================================================================\n",
            "Total params: 122,570\n",
            "Trainable params: 122,570\n",
            "Non-trainable params: 0\n",
            "_________________________________________________________________\n"
          ],
          "name": "stdout"
        }
      ]
    },
    {
      "cell_type": "code",
      "metadata": {
        "colab": {
          "base_uri": "https://localhost:8080/",
          "height": 0
        },
        "id": "dcFZ5ds3VCOR",
        "outputId": "68bf9005-8014-45e9-d9d7-19f713b24494"
      },
      "source": [
        "model.compile(optimizer='adam',\n",
        "              loss=tf.keras.losses.SparseCategoricalCrossentropy(from_logits=True),\n",
        "              metrics=['accuracy'])\n",
        "\n",
        "history = model.fit(train_images, train_labels, epochs=10, \n",
        "                    validation_data=(test_images, test_labels))"
      ],
      "execution_count": 68,
      "outputs": [
        {
          "output_type": "stream",
          "text": [
            "Epoch 1/10\n",
            "1563/1563 [==============================] - 68s 43ms/step - loss: 1.7308 - accuracy: 0.3592 - val_loss: 1.2607 - val_accuracy: 0.5356\n",
            "Epoch 2/10\n",
            "1563/1563 [==============================] - 68s 43ms/step - loss: 1.1835 - accuracy: 0.5810 - val_loss: 1.0623 - val_accuracy: 0.6256\n",
            "Epoch 3/10\n",
            "1563/1563 [==============================] - 68s 43ms/step - loss: 1.0121 - accuracy: 0.6459 - val_loss: 1.0159 - val_accuracy: 0.6370\n",
            "Epoch 4/10\n",
            "1563/1563 [==============================] - 67s 43ms/step - loss: 0.9062 - accuracy: 0.6826 - val_loss: 0.9307 - val_accuracy: 0.6768\n",
            "Epoch 5/10\n",
            "1563/1563 [==============================] - 66s 42ms/step - loss: 0.8308 - accuracy: 0.7102 - val_loss: 0.9449 - val_accuracy: 0.6679\n",
            "Epoch 6/10\n",
            "1563/1563 [==============================] - 67s 43ms/step - loss: 0.7569 - accuracy: 0.7361 - val_loss: 0.8989 - val_accuracy: 0.6885\n",
            "Epoch 7/10\n",
            "1563/1563 [==============================] - 67s 43ms/step - loss: 0.7093 - accuracy: 0.7478 - val_loss: 0.8539 - val_accuracy: 0.7092\n",
            "Epoch 8/10\n",
            "1563/1563 [==============================] - 67s 43ms/step - loss: 0.6600 - accuracy: 0.7676 - val_loss: 0.9601 - val_accuracy: 0.6866\n",
            "Epoch 9/10\n",
            "1563/1563 [==============================] - 67s 43ms/step - loss: 0.6284 - accuracy: 0.7755 - val_loss: 0.8862 - val_accuracy: 0.7040\n",
            "Epoch 10/10\n",
            "1563/1563 [==============================] - 68s 43ms/step - loss: 0.5878 - accuracy: 0.7901 - val_loss: 0.8773 - val_accuracy: 0.7134\n"
          ],
          "name": "stdout"
        }
      ]
    },
    {
      "cell_type": "code",
      "metadata": {
        "colab": {
          "base_uri": "https://localhost:8080/",
          "height": 300
        },
        "id": "GjYbMNASVEZj",
        "outputId": "c23ed67d-126a-422b-ae89-b1f4569253f6"
      },
      "source": [
        "plt.plot(history.history['accuracy'], label='accuracy')\n",
        "plt.plot(history.history['val_accuracy'], label = 'val_accuracy')\n",
        "plt.xlabel('Epoch')\n",
        "plt.ylabel('Accuracy')\n",
        "plt.ylim([0.5, 1])\n",
        "plt.legend(loc='lower right')\n",
        "\n",
        "test_loss, test_acc = model.evaluate(test_images,  test_labels, verbose=2)"
      ],
      "execution_count": 69,
      "outputs": [
        {
          "output_type": "stream",
          "text": [
            "313/313 - 4s - loss: 0.8773 - accuracy: 0.7134\n"
          ],
          "name": "stdout"
        },
        {
          "output_type": "display_data",
          "data": {
            "image/png": "[encoded data removed]",
            "text/plain": [
              "<Figure size 432x288 with 1 Axes>"
            ]
          },
          "metadata": {
            "tags": [],
            "needs_background": "light"
          }
        }
      ]
    },
    {
      "cell_type": "code",
      "metadata": {
        "colab": {
          "base_uri": "https://localhost:8080/",
          "height": 0
        },
        "id": "b1NgPyduVGnC",
        "outputId": "d6750774-8e5d-422a-ab32-4ae421f2844c"
      },
      "source": [
        "print(test_acc)"
      ],
      "execution_count": 70,
      "outputs": [
        {
          "output_type": "stream",
          "text": [
            "0.7134000062942505\n"
          ],
          "name": "stdout"
        }
      ]
    }
  ]
}